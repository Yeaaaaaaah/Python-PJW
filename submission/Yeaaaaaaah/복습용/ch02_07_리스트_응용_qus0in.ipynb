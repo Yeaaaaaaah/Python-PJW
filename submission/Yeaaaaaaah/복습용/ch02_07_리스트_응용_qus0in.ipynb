{
  "nbformat": 4,
  "nbformat_minor": 0,
  "metadata": {
    "colab": {
      "provenance": [],
      "authorship_tag": "ABX9TyPL6H8p/VqhXneH3P8MB3Ue",
      "include_colab_link": true
    },
    "kernelspec": {
      "name": "python3",
      "display_name": "Python 3"
    },
    "language_info": {
      "name": "python"
    }
  },
  "cells": [
    {
      "cell_type": "markdown",
      "metadata": {
        "id": "view-in-github",
        "colab_type": "text"
      },
      "source": [
        "<a href=\"https://colab.research.google.com/github/qus0in/Python/blob/main/submission/qus0in/ch02_07_%EB%A6%AC%EC%8A%A4%ED%8A%B8_%EC%9D%91%EC%9A%A9_qus0in.ipynb\" target=\"_parent\"><img src=\"https://colab.research.google.com/assets/colab-badge.svg\" alt=\"Open In Colab\"/></a>"
      ]
    },
    {
      "cell_type": "markdown",
      "source": [
        "# 리스트 응용"
      ],
      "metadata": {
        "id": "G6ZVllQhYcbV"
      }
    },
    {
      "cell_type": "markdown",
      "source": [
        "## 리스트 조작하기"
      ],
      "metadata": {
        "id": "oFfwKwUKYW_h"
      }
    },
    {
      "cell_type": "markdown",
      "source": [
        "### 리스트에 요소 추가하기"
      ],
      "metadata": {
        "id": "K8TvUjhbYf7x"
      }
    },
    {
      "cell_type": "markdown",
      "source": [
        "리스트의 대표적인 기능이 바로 요소 추가입니다. 다음과 같이 리스트에 요소를 추가하는 메서드는 3가지가 있습니다.\n",
        "\n",
        "* `append`: 요소 하나를 추가\n",
        "* `extend`: 리스트를 연결하여 확장\n",
        "* `insert`: 특정 인덱스에 요소 추가"
      ],
      "metadata": {
        "id": "78Pck1pcYiDa"
      }
    },
    {
      "cell_type": "markdown",
      "source": [
        "### 기존 리스트에 요소 하나 추가하기"
      ],
      "metadata": {
        "id": "glHB7Y0UYnpm"
      }
    },
    {
      "cell_type": "code",
      "execution_count": null,
      "metadata": {
        "colab": {
          "base_uri": "https://localhost:8080/"
        },
        "id": "U7W5ZUuFYSZE",
        "outputId": "81d83767-3606-4215-a77d-964550e6187d"
      },
      "outputs": [
        {
          "output_type": "execute_result",
          "data": {
            "text/plain": [
              "[10, 20, 30]"
            ]
          },
          "metadata": {},
          "execution_count": 2
        }
      ],
      "source": [
        "a = [10, 20, 30]\n",
        "a"
      ]
    },
    {
      "cell_type": "code",
      "source": [
        "a.append(500)"
      ],
      "metadata": {
        "id": "DLAKV_6ngw49"
      },
      "execution_count": null,
      "outputs": []
    },
    {
      "cell_type": "code",
      "source": [
        "a # append : 리스트에 맨 뒷자리에 새로운 원소를 추가"
      ],
      "metadata": {
        "colab": {
          "base_uri": "https://localhost:8080/"
        },
        "id": "OvqDUQYYg7Bu",
        "outputId": "304875e2-91ee-4f2d-ee10-5bb08f679ed6"
      },
      "execution_count": null,
      "outputs": [
        {
          "output_type": "execute_result",
          "data": {
            "text/plain": [
              "[10, 20, 30, 500]"
            ]
          },
          "metadata": {},
          "execution_count": 4
        }
      ]
    },
    {
      "cell_type": "code",
      "source": [
        "# 물론 빈 리스트에 값을 추가할 수도 있습니다.\n",
        "b = []\n",
        "b.append(10)\n",
        "b"
      ],
      "metadata": {
        "colab": {
          "base_uri": "https://localhost:8080/"
        },
        "id": "W_A5RuYqYvan",
        "outputId": "bee10468-b486-461f-9a95-909e4ebfeb1a"
      },
      "execution_count": null,
      "outputs": [
        {
          "output_type": "execute_result",
          "data": {
            "text/plain": [
              "[10]"
            ]
          },
          "metadata": {},
          "execution_count": 5
        }
      ]
    },
    {
      "cell_type": "markdown",
      "source": [
        "### 리스트 안에 리스트 추가하기"
      ],
      "metadata": {
        "id": "VT7bwaRgY3oG"
      }
    },
    {
      "cell_type": "code",
      "source": [
        "# append는 append(리스트)처럼 리스트를 넣으면 리스트 안에 리스트가 들어갑니다.\n",
        "a = [\"헤이즐아메리카노\", \"마카다미아라떼\", '카페모카']\n",
        "a.append([\"체리콕에이드\", \"유자민트레몬티\"])\n",
        "a, len(a)"
      ],
      "metadata": {
        "colab": {
          "base_uri": "https://localhost:8080/"
        },
        "id": "vBb5LjzkY0Iz",
        "outputId": "2c7b234e-d02e-4d06-ba20-ad31f92eaa79"
      },
      "execution_count": null,
      "outputs": [
        {
          "output_type": "execute_result",
          "data": {
            "text/plain": [
              "(['헤이즐아메리카노', '마카다미아라떼', '카페모카', ['체리콕에이드', '유자민트레몬티']], 4)"
            ]
          },
          "metadata": {},
          "execution_count": 6
        }
      ]
    },
    {
      "cell_type": "markdown",
      "source": [
        "append는 항상 리스트의 길이가 1씩 증가합니다."
      ],
      "metadata": {
        "id": "6ngwqPHGZAro"
      }
    },
    {
      "cell_type": "markdown",
      "source": [
        "### 리스트 확장하기"
      ],
      "metadata": {
        "id": "2HZnWqYhZCdh"
      }
    },
    {
      "cell_type": "markdown",
      "source": [
        "그러면 리스트에 요소를 여러 개 추가하려면 어떻게 해야 할까요? append를 여러 번 사용하는 방법도 있지만, 추가할 요소가 많은 경우에는 상당히 번거롭습니다. 이때는 extend를 사용합니다."
      ],
      "metadata": {
        "id": "P-gRJ5WEZGBt"
      }
    },
    {
      "cell_type": "code",
      "source": [
        "# extend(리스트)는 리스트 끝에 다른 리스트를 연결하여 리스트를 확장합니다.\n",
        "a = ['초코라떼', '복숭아아이스티', '아메리카노']\n",
        "a.extend(['캐모마일티', '바닐라라떼'])\n",
        "a"
      ],
      "metadata": {
        "colab": {
          "base_uri": "https://localhost:8080/"
        },
        "id": "A3KhwcWaY9nI",
        "outputId": "98abb9dd-2243-4102-ed3e-91b16ac76393"
      },
      "execution_count": null,
      "outputs": [
        {
          "output_type": "execute_result",
          "data": {
            "text/plain": [
              "['초코라떼', '복숭아아이스티', '아메리카노', '캐모마일티', '바닐라라떼']"
            ]
          },
          "metadata": {},
          "execution_count": 7
        }
      ]
    },
    {
      "cell_type": "code",
      "source": [
        "a = ['초코라떼', '복숭아아이스티', '아메리카노']\n",
        "a + ['캐모마일티', '바닐라라떼']"
      ],
      "metadata": {
        "colab": {
          "base_uri": "https://localhost:8080/"
        },
        "id": "j9sxtQzaiVzF",
        "outputId": "c8e13ebd-f7c9-4226-f467-33addc748c63"
      },
      "execution_count": null,
      "outputs": [
        {
          "output_type": "execute_result",
          "data": {
            "text/plain": [
              "['초코라떼', '복숭아아이스티', '아메리카노', '캐모마일티', '바닐라라떼']"
            ]
          },
          "metadata": {},
          "execution_count": 9
        }
      ]
    },
    {
      "cell_type": "code",
      "source": [
        "a"
      ],
      "metadata": {
        "colab": {
          "base_uri": "https://localhost:8080/"
        },
        "id": "eKqep8tyiiaL",
        "outputId": "cf8696b2-8595-4552-fe7a-1be080de88cc"
      },
      "execution_count": null,
      "outputs": [
        {
          "output_type": "execute_result",
          "data": {
            "text/plain": [
              "['초코라떼', '복숭아아이스티', '아메리카노']"
            ]
          },
          "metadata": {},
          "execution_count": 10
        }
      ]
    },
    {
      "cell_type": "code",
      "source": [
        "a = ['초코라떼', '복숭아아이스티', '아메리카노']\n",
        "a += ['캐모마일티', '바닐라라떼']\n",
        "a"
      ],
      "metadata": {
        "colab": {
          "base_uri": "https://localhost:8080/"
        },
        "id": "R2wqM-r8ilhA",
        "outputId": "e31bc09e-c281-4f99-cd7b-2837706c1e38"
      },
      "execution_count": null,
      "outputs": [
        {
          "output_type": "execute_result",
          "data": {
            "text/plain": [
              "['초코라떼', '복숭아아이스티', '아메리카노', '캐모마일티', '바닐라라떼']"
            ]
          },
          "metadata": {},
          "execution_count": 11
        }
      ]
    },
    {
      "cell_type": "code",
      "source": [
        "len(a)"
      ],
      "metadata": {
        "colab": {
          "base_uri": "https://localhost:8080/"
        },
        "id": "sLIaVomSiLvU",
        "outputId": "be40b8d3-a6c0-4590-fe33-a5ad3049c187"
      },
      "execution_count": null,
      "outputs": [
        {
          "output_type": "execute_result",
          "data": {
            "text/plain": [
              "5"
            ]
          },
          "metadata": {},
          "execution_count": 8
        }
      ]
    },
    {
      "cell_type": "markdown",
      "source": [
        "a.extend(b) / a += b"
      ],
      "metadata": {
        "id": "YmigDCtJiqXL"
      }
    },
    {
      "cell_type": "markdown",
      "source": [
        "extend의 동작을 좀 더 정확하게 이야기하면 extend에 전달된 요소를 반복하면서 각 요소를 리스트 a에 추가하는 것입니다. 따라서 리스트와 리스트를 연결한 모양이 됩니다."
      ],
      "metadata": {
        "id": "L6F9gJo0ZPZw"
      }
    },
    {
      "cell_type": "markdown",
      "source": [
        "### 리스트의 특정 인덱스에 요소 추가하기"
      ],
      "metadata": {
        "id": "kyn9vIDQZSZ_"
      }
    },
    {
      "cell_type": "markdown",
      "source": [
        "append, extend는 리스트 끝에 요소를 추가합니다. 그러면 원하는 위치에 요소를 추가하는 방법은 없을까요? 이때는 insert를 사용합니다."
      ],
      "metadata": {
        "id": "YuWERyC6ZUfk"
      }
    },
    {
      "cell_type": "code",
      "source": [
        "# insert(인덱스, 요소)는 리스트의 특정 인덱스에 요소 하나를 추가합니다.\n",
        "a = [10, 20, 30]\n",
        "a.insert(2, 500)\n",
        "a, len(a)"
      ],
      "metadata": {
        "colab": {
          "base_uri": "https://localhost:8080/"
        },
        "id": "AfxcI4GZZLlB",
        "outputId": "144bfcb6-8978-4922-fa67-8c59465d9c64"
      },
      "execution_count": null,
      "outputs": [
        {
          "output_type": "execute_result",
          "data": {
            "text/plain": [
              "([10, 20, 500, 30], 4)"
            ]
          },
          "metadata": {},
          "execution_count": 12
        }
      ]
    },
    {
      "cell_type": "markdown",
      "source": [
        "insert에서 자주 사용하는 패턴은 다음 2가지입니다.\n",
        "\n",
        "* `insert(0, 요소)`: 리스트의 맨 처음에 요소를 추가\n",
        "* `insert(len(리스트), 요소)`: 리스트 끝에 요소를 추가\n"
      ],
      "metadata": {
        "id": "proj9OApZf6C"
      }
    },
    {
      "cell_type": "code",
      "source": [
        "a = [10, 20, 30]\n",
        "a.insert(0, 500)\n",
        "a"
      ],
      "metadata": {
        "colab": {
          "base_uri": "https://localhost:8080/"
        },
        "id": "PKa4O6gkZdTY",
        "outputId": "fec0c86a-4b57-4029-cd7f-8b82d671f0ae"
      },
      "execution_count": null,
      "outputs": [
        {
          "output_type": "execute_result",
          "data": {
            "text/plain": [
              "[500, 10, 20, 30]"
            ]
          },
          "metadata": {},
          "execution_count": 13
        }
      ]
    },
    {
      "cell_type": "code",
      "source": [
        "# insert에 마지막 인덱스보다 큰 값을 지정하면 리스트 끝에 요소 하나를 추가할 수 있습니다.\n",
        "a = [10, 20, 30]\n",
        "a.insert(len(a), 500)\n",
        "a"
      ],
      "metadata": {
        "colab": {
          "base_uri": "https://localhost:8080/"
        },
        "id": "a3uaIqN4Zlup",
        "outputId": "263dba2e-f875-4042-d857-bbf7ffb134a9"
      },
      "execution_count": null,
      "outputs": [
        {
          "output_type": "execute_result",
          "data": {
            "text/plain": [
              "[10, 20, 30, 500]"
            ]
          },
          "metadata": {},
          "execution_count": 16
        }
      ]
    },
    {
      "cell_type": "code",
      "source": [
        "a = [10, 20, 30]\n",
        "a.insert(len(a)-1, 500)\n",
        "a"
      ],
      "metadata": {
        "colab": {
          "base_uri": "https://localhost:8080/"
        },
        "id": "_G_4tkZVkpbe",
        "outputId": "5529465a-5a33-4670-816f-81dc6235423d"
      },
      "execution_count": null,
      "outputs": [
        {
          "output_type": "execute_result",
          "data": {
            "text/plain": [
              "[10, 20, 500, 30]"
            ]
          },
          "metadata": {},
          "execution_count": 15
        }
      ]
    },
    {
      "cell_type": "markdown",
      "source": [
        "len(리스트)는 마지막 인덱스보다 1이 더 크기 때문에 리스트 끝에 값을 추가할 때 자주 활용합니다. (=append)"
      ],
      "metadata": {
        "id": "isi-LJ6_ZuL2"
      }
    },
    {
      "cell_type": "code",
      "source": [
        "# 특히 insert는 요소 하나를 추가하므로 insert에 리스트를 넣으면 append처럼 리스트 안에 리스트가 들어갑니다. (중첩 리스트)\n",
        "a = [10, 20, 30]\n",
        "a.insert(1, [500, 600])\n",
        "a"
      ],
      "metadata": {
        "colab": {
          "base_uri": "https://localhost:8080/"
        },
        "id": "_WDQqZp8ZraZ",
        "outputId": "e5459a30-14d9-42f2-f57c-d36c670becaa"
      },
      "execution_count": null,
      "outputs": [
        {
          "output_type": "execute_result",
          "data": {
            "text/plain": [
              "[10, [500, 600], 20, 30]"
            ]
          },
          "metadata": {},
          "execution_count": 17
        }
      ]
    },
    {
      "cell_type": "code",
      "source": [
        "# 만약 리스트 중간에 요소 여러 개를 추가하고 싶다면 슬라이스에 요소 할당하기를 활용하면 됩니다.\n",
        "a = [10, 20, 30]\n",
        "a[1:1] = [500, 600]\n",
        "a"
      ],
      "metadata": {
        "colab": {
          "base_uri": "https://localhost:8080/"
        },
        "id": "VW4-o3PSZ193",
        "outputId": "3ee75c55-2fe3-411c-ceee-4a4bca2cf177"
      },
      "execution_count": null,
      "outputs": [
        {
          "output_type": "execute_result",
          "data": {
            "text/plain": [
              "[10, 500, 600, 20, 30]"
            ]
          },
          "metadata": {},
          "execution_count": 18
        }
      ]
    },
    {
      "cell_type": "markdown",
      "source": [
        "### 리스트에서 요소 삭제하기"
      ],
      "metadata": {
        "id": "ibYvJldjZ-9N"
      }
    },
    {
      "cell_type": "markdown",
      "source": [
        "이번에는 리스트에서 요소를 삭제하는 방법입니다. 다음과 같이 요소를 삭제하는 메서드는 2가지가 있습니다.\n",
        "\n",
        "* `pop`: 마지막 요소 또는 특정 인덱스의 요소를 삭제\n",
        "* `remove`: 특정 값을 찾아서 삭제"
      ],
      "metadata": {
        "id": "YmYWaEScaGPa"
      }
    },
    {
      "cell_type": "markdown",
      "source": [
        "### 리스트에서 특정 인덱스의 요소를 삭제하기"
      ],
      "metadata": {
        "id": "iot6Ojlyb9d_"
      }
    },
    {
      "cell_type": "markdown",
      "source": [
        "pop()은 리스트의 마지막 요소를 삭제한 뒤 삭제한 요소를 반환합니다."
      ],
      "metadata": {
        "id": "eqYdMTEhb_z1"
      }
    },
    {
      "cell_type": "code",
      "source": [
        "a = [10, 20, 30]\n",
        "a.pop()"
      ],
      "metadata": {
        "colab": {
          "base_uri": "https://localhost:8080/"
        },
        "id": "8sIJ1hgBaGEf",
        "outputId": "b9fc52dd-4e78-4947-bae4-26721dbf3cfc"
      },
      "execution_count": 19,
      "outputs": [
        {
          "output_type": "execute_result",
          "data": {
            "text/plain": [
              "30"
            ]
          },
          "metadata": {},
          "execution_count": 19
        }
      ]
    },
    {
      "cell_type": "code",
      "source": [
        "a"
      ],
      "metadata": {
        "colab": {
          "base_uri": "https://localhost:8080/"
        },
        "id": "KNHfcOh6Z8Mj",
        "outputId": "2acaa267-2b8e-4c40-fc1b-445faf03d3fb"
      },
      "execution_count": 20,
      "outputs": [
        {
          "output_type": "execute_result",
          "data": {
            "text/plain": [
              "[10, 20]"
            ]
          },
          "metadata": {},
          "execution_count": 20
        }
      ]
    },
    {
      "cell_type": "code",
      "source": [
        "box = ['아이폰', '갤럭시', '맥북']\n",
        "last = box.pop()\n",
        "last"
      ],
      "metadata": {
        "colab": {
          "base_uri": "https://localhost:8080/",
          "height": 36
        },
        "id": "z1lJYnxD47Uo",
        "outputId": "2a61bbf7-83a4-4418-8175-7922dcc77a1d"
      },
      "execution_count": 21,
      "outputs": [
        {
          "output_type": "execute_result",
          "data": {
            "text/plain": [
              "'맥북'"
            ],
            "application/vnd.google.colaboratory.intrinsic+json": {
              "type": "string"
            }
          },
          "metadata": {},
          "execution_count": 21
        }
      ]
    },
    {
      "cell_type": "code",
      "source": [
        "box"
      ],
      "metadata": {
        "colab": {
          "base_uri": "https://localhost:8080/"
        },
        "id": "zxQg_uQj5La1",
        "outputId": "65d8ba36-2236-4135-e052-260a9092e7e6"
      },
      "execution_count": 22,
      "outputs": [
        {
          "output_type": "execute_result",
          "data": {
            "text/plain": [
              "['아이폰', '갤럭시']"
            ]
          },
          "metadata": {},
          "execution_count": 22
        }
      ]
    },
    {
      "cell_type": "code",
      "source": [
        "lunch = []\n",
        "lunch.append(\"김씨\")\n",
        "lunch.append(\"박씨\")\n",
        "lunch.append(\"이씨\")"
      ],
      "metadata": {
        "id": "LXg97Zp75hbS"
      },
      "execution_count": 23,
      "outputs": []
    },
    {
      "cell_type": "code",
      "source": [
        "lunch"
      ],
      "metadata": {
        "colab": {
          "base_uri": "https://localhost:8080/"
        },
        "id": "7evOL30f5th4",
        "outputId": "c772aea0-abb6-4bf1-973c-5a6b4733adcd"
      },
      "execution_count": 24,
      "outputs": [
        {
          "output_type": "execute_result",
          "data": {
            "text/plain": [
              "['김씨', '박씨', '이씨']"
            ]
          },
          "metadata": {},
          "execution_count": 24
        }
      ]
    },
    {
      "cell_type": "code",
      "source": [
        "lunch.pop()"
      ],
      "metadata": {
        "colab": {
          "base_uri": "https://localhost:8080/",
          "height": 36
        },
        "id": "0YsMgIVo5wi2",
        "outputId": "ebb44f80-17d7-461e-ba27-e02fd7a97cc5"
      },
      "execution_count": 25,
      "outputs": [
        {
          "output_type": "execute_result",
          "data": {
            "text/plain": [
              "'이씨'"
            ],
            "application/vnd.google.colaboratory.intrinsic+json": {
              "type": "string"
            }
          },
          "metadata": {},
          "execution_count": 25
        }
      ]
    },
    {
      "cell_type": "code",
      "source": [
        "lunch"
      ],
      "metadata": {
        "colab": {
          "base_uri": "https://localhost:8080/"
        },
        "id": "D22oMTwt5z0R",
        "outputId": "6f42f2e0-b434-4c8b-e57f-628b9478d79f"
      },
      "execution_count": 26,
      "outputs": [
        {
          "output_type": "execute_result",
          "data": {
            "text/plain": [
              "['김씨', '박씨']"
            ]
          },
          "metadata": {},
          "execution_count": 26
        }
      ]
    },
    {
      "cell_type": "markdown",
      "source": [
        "그러면 원하는 인덱스의 요소를 삭제할 수는 없을까요? 이때는 pop에 인덱스를 지정하면 됩니다."
      ],
      "metadata": {
        "id": "_uCDrzxLcGgl"
      }
    },
    {
      "cell_type": "code",
      "source": [
        "# pop(인덱스)는 해당 인덱스의 요소를 삭제한 뒤 삭제한 요소를 반환합니다.\n",
        "a = [10, 20, 30]\n",
        "a.pop(1), a"
      ],
      "metadata": {
        "colab": {
          "base_uri": "https://localhost:8080/"
        },
        "id": "uZhoaqkPcDgT",
        "outputId": "7e49a790-e190-43b4-efa3-92e072e1c7bc"
      },
      "execution_count": 27,
      "outputs": [
        {
          "output_type": "execute_result",
          "data": {
            "text/plain": [
              "(20, [10, 30])"
            ]
          },
          "metadata": {},
          "execution_count": 27
        }
      ]
    },
    {
      "cell_type": "code",
      "source": [
        "a"
      ],
      "metadata": {
        "colab": {
          "base_uri": "https://localhost:8080/"
        },
        "id": "fwNrUtbfcLAT",
        "outputId": "cd3eedb3-4580-4397-82e3-139f05e7b874"
      },
      "execution_count": 28,
      "outputs": [
        {
          "output_type": "execute_result",
          "data": {
            "text/plain": [
              "[10, 30]"
            ]
          },
          "metadata": {},
          "execution_count": 28
        }
      ]
    },
    {
      "cell_type": "code",
      "source": [
        "# 사실 pop 대신 del을 사용해도 상관없습니다.\n",
        "a = [10, 20, 30]\n",
        "del a[1]"
      ],
      "metadata": {
        "id": "GbqvJNcmcLd1"
      },
      "execution_count": 29,
      "outputs": []
    },
    {
      "cell_type": "code",
      "source": [
        "a"
      ],
      "metadata": {
        "colab": {
          "base_uri": "https://localhost:8080/"
        },
        "id": "dmNKCehv6P7v",
        "outputId": "a24d9be6-572a-4690-f7eb-4326482e98ec"
      },
      "execution_count": 30,
      "outputs": [
        {
          "output_type": "execute_result",
          "data": {
            "text/plain": [
              "[10, 30]"
            ]
          },
          "metadata": {},
          "execution_count": 30
        }
      ]
    },
    {
      "cell_type": "markdown",
      "source": [
        "### 리스트에서 특정 값을 찾아서 삭제하기"
      ],
      "metadata": {
        "id": "-tUv0GzrcTbs"
      }
    },
    {
      "cell_type": "markdown",
      "source": [
        "pop이나 del은 인덱스로 요소를 삭제했는데, 리스트에서 원하는 값을 찾아서 삭제하고 싶을 수도 있습니다. 이런 경우에는 remove를 사용합니다."
      ],
      "metadata": {
        "id": "XFdaVoCWcVzd"
      }
    },
    {
      "cell_type": "code",
      "source": [
        "# remove(값)은 리스트에서 특정 값을 찾아서 삭제합니다.\n",
        "cookie_box = [\"마카다미아 쿠키\", \"황치즈 쿠키\", \"레드벨벳 쿠키\", \"오레오 쿠키\"]\n",
        "cookie_box"
      ],
      "metadata": {
        "colab": {
          "base_uri": "https://localhost:8080/"
        },
        "id": "vUjy55MmcQpu",
        "outputId": "3867a183-5e10-40c7-d374-3f31951e1418"
      },
      "execution_count": 31,
      "outputs": [
        {
          "output_type": "execute_result",
          "data": {
            "text/plain": [
              "['마카다미아 쿠키', '황치즈 쿠키', '레드벨벳 쿠키', '오레오 쿠키']"
            ]
          },
          "metadata": {},
          "execution_count": 31
        }
      ]
    },
    {
      "cell_type": "code",
      "source": [
        "cookie_box.remove(\"황치즈 쿠키\")"
      ],
      "metadata": {
        "id": "hD1FxVr57MnL"
      },
      "execution_count": 32,
      "outputs": []
    },
    {
      "cell_type": "code",
      "source": [
        "cookie_box"
      ],
      "metadata": {
        "colab": {
          "base_uri": "https://localhost:8080/"
        },
        "id": "GLDbjbmV7Vrb",
        "outputId": "f5e9412a-0066-4522-a7fb-42357310f01d"
      },
      "execution_count": 33,
      "outputs": [
        {
          "output_type": "execute_result",
          "data": {
            "text/plain": [
              "['마카다미아 쿠키', '레드벨벳 쿠키', '오레오 쿠키']"
            ]
          },
          "metadata": {},
          "execution_count": 33
        }
      ]
    },
    {
      "cell_type": "code",
      "source": [
        "# 만약 리스트에 같은 값이 여러 개 있을 경우 처음 찾은 값을 삭제합니다.\n",
        "cookie_box = [\"마카다미아 쿠키\", \"황치즈 쿠키\", \"레드벨벳 쿠키\", \"오레오 쿠키\", \"황치즈 쿠키\"]\n",
        "cookie_box.remove(\"황치즈 쿠키\")\n",
        "cookie_box"
      ],
      "metadata": {
        "colab": {
          "base_uri": "https://localhost:8080/"
        },
        "id": "dBvZdlZXcZrq",
        "outputId": "ad545618-ada5-4242-aaba-305d363c52ae"
      },
      "execution_count": 34,
      "outputs": [
        {
          "output_type": "execute_result",
          "data": {
            "text/plain": [
              "['마카다미아 쿠키', '레드벨벳 쿠키', '오레오 쿠키', '황치즈 쿠키']"
            ]
          },
          "metadata": {},
          "execution_count": 34
        }
      ]
    },
    {
      "cell_type": "code",
      "source": [
        "cookie_box = [\"마카다미아 쿠키\", \"황치즈 쿠키\", \"레드벨벳 쿠키\", \"오레오 쿠키\", \"황치즈 쿠키\"]\n",
        "cookie_box.remove(\"치즈 쿠키\")\n",
        "cookie_box"
      ],
      "metadata": {
        "colab": {
          "base_uri": "https://localhost:8080/",
          "height": 213
        },
        "id": "WpydIsO57jAw",
        "outputId": "5ecdcc9d-db30-4f26-f711-f8642f1e9293"
      },
      "execution_count": 35,
      "outputs": [
        {
          "output_type": "error",
          "ename": "ValueError",
          "evalue": "ignored",
          "traceback": [
            "\u001b[0;31m---------------------------------------------------------------------------\u001b[0m",
            "\u001b[0;31mValueError\u001b[0m                                Traceback (most recent call last)",
            "\u001b[0;32m<ipython-input-35-585be50ee2e5>\u001b[0m in \u001b[0;36m<module>\u001b[0;34m\u001b[0m\n\u001b[1;32m      1\u001b[0m \u001b[0mcookie_box\u001b[0m \u001b[0;34m=\u001b[0m \u001b[0;34m[\u001b[0m\u001b[0;34m\"마카다미아 쿠키\"\u001b[0m\u001b[0;34m,\u001b[0m \u001b[0;34m\"황치즈 쿠키\"\u001b[0m\u001b[0;34m,\u001b[0m \u001b[0;34m\"레드벨벳 쿠키\"\u001b[0m\u001b[0;34m,\u001b[0m \u001b[0;34m\"오레오 쿠키\"\u001b[0m\u001b[0;34m,\u001b[0m \u001b[0;34m\"황치즈 쿠키\"\u001b[0m\u001b[0;34m]\u001b[0m\u001b[0;34m\u001b[0m\u001b[0;34m\u001b[0m\u001b[0m\n\u001b[0;32m----> 2\u001b[0;31m \u001b[0mcookie_box\u001b[0m\u001b[0;34m.\u001b[0m\u001b[0mremove\u001b[0m\u001b[0;34m(\u001b[0m\u001b[0;34m\"치즈 쿠키\"\u001b[0m\u001b[0;34m)\u001b[0m\u001b[0;34m\u001b[0m\u001b[0;34m\u001b[0m\u001b[0m\n\u001b[0m\u001b[1;32m      3\u001b[0m \u001b[0mcookie_box\u001b[0m\u001b[0;34m\u001b[0m\u001b[0;34m\u001b[0m\u001b[0m\n",
            "\u001b[0;31mValueError\u001b[0m: list.remove(x): x not in list"
          ]
        }
      ]
    },
    {
      "cell_type": "markdown",
      "source": [
        "### 리스트에서 특정 값의 인덱스 구하기"
      ],
      "metadata": {
        "id": "jRp1EQMUch1C"
      }
    },
    {
      "cell_type": "code",
      "source": [
        "# index(값)은 리스트에서 특정 값의 인덱스를 구합니다.\n",
        "# 이때 같은 값이 여러 개일 경우 처음 찾은 인덱스를 구합니다(가장 작은 인덱스).\n",
        "cookie_box = [\"마카다미아 쿠키\", \"황치즈 쿠키\", \"레드벨벳 쿠키\", \"오레오 쿠키\"]\n",
        "cookie_box.index(\"황치즈 쿠키\")"
      ],
      "metadata": {
        "colab": {
          "base_uri": "https://localhost:8080/"
        },
        "id": "xRN3qbHEcc4g",
        "outputId": "f361ca09-0da1-4c31-84d3-8bcbdf9285b4"
      },
      "execution_count": 37,
      "outputs": [
        {
          "output_type": "execute_result",
          "data": {
            "text/plain": [
              "1"
            ]
          },
          "metadata": {},
          "execution_count": 37
        }
      ]
    },
    {
      "cell_type": "code",
      "source": [
        "cookie_box = [\"마카다미아 쿠키\", \"황치즈 쿠키\", \"레드벨벳 쿠키\", \"오레오 쿠키\", \"황치즈 쿠키\"]\n",
        "cookie_box.index(\"황치즈 쿠키\")\n",
        "cookie_box.remove(\"황치즈 쿠키\") # del cookie_box[cookie_box.index(\"황치즈 쿠키\")]"
      ],
      "metadata": {
        "colab": {
          "base_uri": "https://localhost:8080/"
        },
        "id": "A1Bg3V5z7_K-",
        "outputId": "051098e8-0618-46d5-e0b1-31a072e3224e"
      },
      "execution_count": 38,
      "outputs": [
        {
          "output_type": "execute_result",
          "data": {
            "text/plain": [
              "1"
            ]
          },
          "metadata": {},
          "execution_count": 38
        }
      ]
    },
    {
      "cell_type": "code",
      "source": [
        "cookie_box = [\"마카다미아 쿠키\", \"황치즈 쿠키\", \"레드벨벳 쿠키\", \"오레오 쿠키\"]\n",
        "cookie_box.index(\"치즈 쿠키\")"
      ],
      "metadata": {
        "colab": {
          "base_uri": "https://localhost:8080/",
          "height": 194
        },
        "id": "bO70Vx-F8EFl",
        "outputId": "e929e4b4-f9ea-45b0-b71b-a8412503df10"
      },
      "execution_count": 39,
      "outputs": [
        {
          "output_type": "error",
          "ename": "ValueError",
          "evalue": "ignored",
          "traceback": [
            "\u001b[0;31m---------------------------------------------------------------------------\u001b[0m",
            "\u001b[0;31mValueError\u001b[0m                                Traceback (most recent call last)",
            "\u001b[0;32m<ipython-input-39-092b5f912426>\u001b[0m in \u001b[0;36m<module>\u001b[0;34m\u001b[0m\n\u001b[1;32m      1\u001b[0m \u001b[0mcookie_box\u001b[0m \u001b[0;34m=\u001b[0m \u001b[0;34m[\u001b[0m\u001b[0;34m\"마카다미아 쿠키\"\u001b[0m\u001b[0;34m,\u001b[0m \u001b[0;34m\"황치즈 쿠키\"\u001b[0m\u001b[0;34m,\u001b[0m \u001b[0;34m\"레드벨벳 쿠키\"\u001b[0m\u001b[0;34m,\u001b[0m \u001b[0;34m\"오레오 쿠키\"\u001b[0m\u001b[0;34m]\u001b[0m\u001b[0;34m\u001b[0m\u001b[0;34m\u001b[0m\u001b[0m\n\u001b[0;32m----> 2\u001b[0;31m \u001b[0mcookie_box\u001b[0m\u001b[0;34m.\u001b[0m\u001b[0mindex\u001b[0m\u001b[0;34m(\u001b[0m\u001b[0;34m\"치즈 쿠키\"\u001b[0m\u001b[0;34m)\u001b[0m\u001b[0;34m\u001b[0m\u001b[0;34m\u001b[0m\u001b[0m\n\u001b[0m",
            "\u001b[0;31mValueError\u001b[0m: '치즈 쿠키' is not in list"
          ]
        }
      ]
    },
    {
      "cell_type": "markdown",
      "source": [
        "### 특정 값의 개수 구하기"
      ],
      "metadata": {
        "id": "Lta-u3P7co0g"
      }
    },
    {
      "cell_type": "code",
      "source": [
        "# count(값)은 리스트에서 특정 값의 개수를 구합니다. \n",
        "cookie_box = [\"마카다미아 쿠키\", \"황치즈 쿠키\", \"레드벨벳 쿠키\", \"오레오 쿠키\", \"황치즈 쿠키\"]\n",
        "# cookie_box.count(\"황치즈 쿠키\")\n",
        "# cookie_box.count(\"마카다미아 쿠키\")\n",
        "bool(cookie_box.count(\"치즈 쿠키\")) # \"치즈 쿠키\" in cookie_box"
      ],
      "metadata": {
        "colab": {
          "base_uri": "https://localhost:8080/"
        },
        "id": "3Hci8EFNcm28",
        "outputId": "81807c66-823a-40ca-f990-cf584b9bb42c"
      },
      "execution_count": 43,
      "outputs": [
        {
          "output_type": "execute_result",
          "data": {
            "text/plain": [
              "False"
            ]
          },
          "metadata": {},
          "execution_count": 43
        }
      ]
    },
    {
      "cell_type": "markdown",
      "source": [
        "### 리스트의 순서를 뒤집기"
      ],
      "metadata": {
        "id": "PDPyJqX8cvK2"
      }
    },
    {
      "cell_type": "code",
      "source": [
        "# reverse()는 리스트에서 요소의 순서를 반대로 뒤집습니다.\n",
        "print(cookie_box)\n",
        "cookie_box.reverse()"
      ],
      "metadata": {
        "colab": {
          "base_uri": "https://localhost:8080/"
        },
        "id": "dfCNjCf-ctOC",
        "outputId": "3a54b0dc-fc77-4972-ee25-44e5bac4f42d"
      },
      "execution_count": 44,
      "outputs": [
        {
          "output_type": "stream",
          "name": "stdout",
          "text": [
            "['마카다미아 쿠키', '황치즈 쿠키', '레드벨벳 쿠키', '오레오 쿠키', '황치즈 쿠키']\n"
          ]
        }
      ]
    },
    {
      "cell_type": "code",
      "source": [
        "print(cookie_box)"
      ],
      "metadata": {
        "colab": {
          "base_uri": "https://localhost:8080/"
        },
        "id": "W0v5u50L9hRe",
        "outputId": "d83b7a23-b875-483f-9976-bd4e25779839"
      },
      "execution_count": 45,
      "outputs": [
        {
          "output_type": "stream",
          "name": "stdout",
          "text": [
            "['황치즈 쿠키', '오레오 쿠키', '레드벨벳 쿠키', '황치즈 쿠키', '마카다미아 쿠키']\n"
          ]
        }
      ]
    },
    {
      "cell_type": "code",
      "source": [
        "cookie_box = [\"마카다미아 쿠키\", \"황치즈 쿠키\", \"레드벨벳 쿠키\", \"오레오 쿠키\", \"황치즈 쿠키\"]"
      ],
      "metadata": {
        "id": "GTLmPn6W9upz"
      },
      "execution_count": 46,
      "outputs": []
    },
    {
      "cell_type": "code",
      "source": [
        "list(reversed(cookie_box)), cookie_box[::-1]"
      ],
      "metadata": {
        "colab": {
          "base_uri": "https://localhost:8080/"
        },
        "id": "eyWs5BIT9vQQ",
        "outputId": "fde890a5-d6b8-4441-c88e-57d1d435f243"
      },
      "execution_count": 48,
      "outputs": [
        {
          "output_type": "execute_result",
          "data": {
            "text/plain": [
              "(['황치즈 쿠키', '오레오 쿠키', '레드벨벳 쿠키', '황치즈 쿠키', '마카다미아 쿠키'],\n",
              " ['황치즈 쿠키', '오레오 쿠키', '레드벨벳 쿠키', '황치즈 쿠키', '마카다미아 쿠키'])"
            ]
          },
          "metadata": {},
          "execution_count": 48
        }
      ]
    },
    {
      "cell_type": "code",
      "source": [
        "cookie_box"
      ],
      "metadata": {
        "colab": {
          "base_uri": "https://localhost:8080/"
        },
        "id": "Z8hgoHXv9wSd",
        "outputId": "223c5204-c427-4571-845a-11cf01ae65de"
      },
      "execution_count": 49,
      "outputs": [
        {
          "output_type": "execute_result",
          "data": {
            "text/plain": [
              "['마카다미아 쿠키', '황치즈 쿠키', '레드벨벳 쿠키', '오레오 쿠키', '황치즈 쿠키']"
            ]
          },
          "metadata": {},
          "execution_count": 49
        }
      ]
    },
    {
      "cell_type": "code",
      "source": [
        "cookie_box.reverse()\n",
        "cookie_box"
      ],
      "metadata": {
        "colab": {
          "base_uri": "https://localhost:8080/"
        },
        "id": "YvcRpS0E9lSq",
        "outputId": "cc33dd60-0b93-45d9-d7b4-26079065ebaa"
      },
      "execution_count": 50,
      "outputs": [
        {
          "output_type": "execute_result",
          "data": {
            "text/plain": [
              "['황치즈 쿠키', '오레오 쿠키', '레드벨벳 쿠키', '황치즈 쿠키', '마카다미아 쿠키']"
            ]
          },
          "metadata": {},
          "execution_count": 50
        }
      ]
    },
    {
      "cell_type": "markdown",
      "source": [
        "### 리스트의 요소를 정렬하기"
      ],
      "metadata": {
        "id": "wKWOgudCc2jU"
      }
    },
    {
      "cell_type": "markdown",
      "source": [
        "sort()는 리스트의 요소을 작은 순서대로 정렬합니다(오름차순).\n",
        "\n",
        "* `sort()` 또는 `sort(reverse=False)`: 리스트의 값을 작은 순서대로 정렬(오름차순)\n",
        "* `sort(reverse=True)`: 리스트의 값을 큰 순서대로 정렬(내림차순)"
      ],
      "metadata": {
        "id": "sfiWcB8Ac6AQ"
      }
    },
    {
      "cell_type": "code",
      "source": [
        "a = [10, 20, 30, 20, 40, 50]\n",
        "a.sort() # reverse=False\n",
        "a"
      ],
      "metadata": {
        "colab": {
          "base_uri": "https://localhost:8080/"
        },
        "id": "JbEBreCxc0Ys",
        "outputId": "e5c89753-08a2-4ee5-9133-5c5f547656ae"
      },
      "execution_count": 52,
      "outputs": [
        {
          "output_type": "execute_result",
          "data": {
            "text/plain": [
              "[10, 20, 20, 30, 40, 50]"
            ]
          },
          "metadata": {},
          "execution_count": 52
        }
      ]
    },
    {
      "cell_type": "code",
      "source": [
        "a.sort(reverse=True)\n",
        "a # 내림차순"
      ],
      "metadata": {
        "colab": {
          "base_uri": "https://localhost:8080/"
        },
        "id": "If_toXmQ-xaX",
        "outputId": "b2bc781c-c9d9-44a4-ed47-64d7709cec79"
      },
      "execution_count": 53,
      "outputs": [
        {
          "output_type": "execute_result",
          "data": {
            "text/plain": [
              "[50, 40, 30, 20, 20, 10]"
            ]
          },
          "metadata": {},
          "execution_count": 53
        }
      ]
    },
    {
      "cell_type": "code",
      "source": [
        "a = [\"최땡떙\", \"이땡땡\", \"김땡땡\"]\n",
        "a.sort()\n",
        "a"
      ],
      "metadata": {
        "colab": {
          "base_uri": "https://localhost:8080/"
        },
        "id": "A-bkI_VM--BJ",
        "outputId": "ca9f07bb-f204-41ae-a8de-8e0eab373138"
      },
      "execution_count": 54,
      "outputs": [
        {
          "output_type": "execute_result",
          "data": {
            "text/plain": [
              "['김땡땡', '이땡땡', '최땡떙']"
            ]
          },
          "metadata": {},
          "execution_count": 54
        }
      ]
    },
    {
      "cell_type": "code",
      "source": [
        "a = [\"banana\", \"apple\", \"kiwi\"]\n",
        "a.sort(reverse=True)\n",
        "a"
      ],
      "metadata": {
        "colab": {
          "base_uri": "https://localhost:8080/"
        },
        "id": "oOuvaf_b_PwM",
        "outputId": "3361f59f-5946-4d7d-8336-1fec3bdf1478"
      },
      "execution_count": 56,
      "outputs": [
        {
          "output_type": "execute_result",
          "data": {
            "text/plain": [
              "['kiwi', 'banana', 'apple']"
            ]
          },
          "metadata": {},
          "execution_count": 56
        }
      ]
    },
    {
      "cell_type": "markdown",
      "source": [
        "### sort 메서드와 sorted 함수\n",
        "파이썬은 리스트의 sort 메서드뿐만 아니라 내장 함수 sorted도 제공합니다. sort와 sorted 모두 정렬을 해주는 함수지만, 약간의 차이점이 있습니다. sort는 메서드를 사용한 리스트를 변경하지만, sorted 함수는 정렬된 새 리스트를 생성합니다."
      ],
      "metadata": {
        "id": "UwvaeBYqdE0L"
      }
    },
    {
      "cell_type": "code",
      "source": [
        "a = [\"최땡떙\", \"이땡땡\", \"김땡땡\"]\n",
        "a.sort()\n",
        "a"
      ],
      "metadata": {
        "colab": {
          "base_uri": "https://localhost:8080/"
        },
        "id": "M6v2UjTpdCPy",
        "outputId": "9e3c855a-8753-4abe-8348-6ffc185693d9"
      },
      "execution_count": 57,
      "outputs": [
        {
          "output_type": "execute_result",
          "data": {
            "text/plain": [
              "['김땡땡', '이땡땡', '최땡떙']"
            ]
          },
          "metadata": {},
          "execution_count": 57
        }
      ]
    },
    {
      "cell_type": "code",
      "source": [
        "a = [\"최땡떙\", \"이땡땡\", \"김땡땡\"]\n",
        "sorted(a), a"
      ],
      "metadata": {
        "colab": {
          "base_uri": "https://localhost:8080/"
        },
        "id": "S6-aTZwBdJtr",
        "outputId": "57b97de6-36b7-4759-cd65-1710170b519b"
      },
      "execution_count": 59,
      "outputs": [
        {
          "output_type": "execute_result",
          "data": {
            "text/plain": [
              "(['김땡땡', '이땡땡', '최땡떙'], ['최땡떙', '이땡땡', '김땡땡'])"
            ]
          },
          "metadata": {},
          "execution_count": 59
        }
      ]
    },
    {
      "cell_type": "markdown",
      "source": [
        "### 리스트의 모든 요소를 삭제하기"
      ],
      "metadata": {
        "id": "6gIMc9xldPUB"
      }
    },
    {
      "cell_type": "code",
      "source": [
        "# clear()는 리스트의 모든 요소를 삭제합니다.\n",
        "a = [10, 20, 30]\n",
        "a.clear()\n",
        "a"
      ],
      "metadata": {
        "colab": {
          "base_uri": "https://localhost:8080/"
        },
        "id": "1aEgUVm1dKia",
        "outputId": "4544cd4a-1213-4fe9-c98a-7756907131fb"
      },
      "execution_count": 61,
      "outputs": [
        {
          "output_type": "execute_result",
          "data": {
            "text/plain": [
              "[]"
            ]
          },
          "metadata": {},
          "execution_count": 61
        }
      ]
    },
    {
      "cell_type": "code",
      "source": [
        "# clear 대신 del a[:]와 같이 시작, 끝 인덱스를 생략하여 리스트의 모든 요소를 삭제할 수도 있습니다.\n",
        "a = [10, 20, 30]\n",
        "del a[:]\n",
        "a"
      ],
      "metadata": {
        "colab": {
          "base_uri": "https://localhost:8080/"
        },
        "id": "6zK9ANwrdTXf",
        "outputId": "411b4ca5-5e9b-4fda-e036-1e382098ee5f"
      },
      "execution_count": 62,
      "outputs": [
        {
          "output_type": "execute_result",
          "data": {
            "text/plain": [
              "[]"
            ]
          },
          "metadata": {},
          "execution_count": 62
        }
      ]
    },
    {
      "cell_type": "code",
      "source": [
        "a = [10, 20, 30]\n",
        "a = []\n",
        "a"
      ],
      "metadata": {
        "colab": {
          "base_uri": "https://localhost:8080/"
        },
        "id": "WVbo52XzAmbT",
        "outputId": "a282c7fd-21ea-4645-cc26-6b11917b5e58"
      },
      "execution_count": 63,
      "outputs": [
        {
          "output_type": "execute_result",
          "data": {
            "text/plain": [
              "[]"
            ]
          },
          "metadata": {},
          "execution_count": 63
        }
      ]
    },
    {
      "cell_type": "markdown",
      "source": [
        "### 리스트를 슬라이스로 조작하기"
      ],
      "metadata": {
        "id": "3bJXyOdcdYVo"
      }
    },
    {
      "cell_type": "code",
      "source": [
        "# 리스트는 메서드를 사용하지 않고, 슬라이스로 조작할 수도 있습니다. 다음은 리스트 끝에 값이 한 개 들어있는 리스트를 추가합니다.\n",
        "a = [10, 20, 30]\n",
        "a[len(a):] = [500]\n",
        "a"
      ],
      "metadata": {
        "colab": {
          "base_uri": "https://localhost:8080/"
        },
        "id": "tS8YUcfsdW1q",
        "outputId": "81d61d75-319d-4039-b3c5-9fb397783d1e"
      },
      "execution_count": 64,
      "outputs": [
        {
          "output_type": "execute_result",
          "data": {
            "text/plain": [
              "[10, 20, 30, 500]"
            ]
          },
          "metadata": {},
          "execution_count": 64
        }
      ]
    },
    {
      "cell_type": "markdown",
      "source": [
        "a[len(a):]는 시작 인덱스를 len(a)로 지정해서 리스트의 마지막 인덱스보다 1이 더 큰 상태입니다. 즉, 그림과 같이 리스트 끝에서부터 시작하겠다는 뜻입니다(이때는 리스트의 범위를 벗어난 인덱스를 사용할 수 있습니다).\n",
        "\n",
        "그리고 a[len(a):] = [..., ...]과 같이 요소가 여러 개 들어있는 리스트를 할당하면 리스트 a 끝에 다른 리스트를 연결한다는 뜻입니다."
      ],
      "metadata": {
        "id": "pfWo0arKddS0"
      }
    },
    {
      "cell_type": "code",
      "source": [
        "a = [10, 20, 30]\n",
        "a[len(a):] = [500, 600]\n",
        "a"
      ],
      "metadata": {
        "colab": {
          "base_uri": "https://localhost:8080/"
        },
        "id": "NREk8TlNdcsq",
        "outputId": "188704cf-8f5a-455c-8a81-3115d7426b79"
      },
      "execution_count": 65,
      "outputs": [
        {
          "output_type": "execute_result",
          "data": {
            "text/plain": [
              "[10, 20, 30, 500, 600]"
            ]
          },
          "metadata": {},
          "execution_count": 65
        }
      ]
    },
    {
      "cell_type": "markdown",
      "source": [
        "### 리스트가 비어 있는지 확인하기\n"
      ],
      "metadata": {
        "id": "1vvNYOe4dtkD"
      }
    },
    {
      "cell_type": "markdown",
      "source": [
        "리스트(시퀀스 객체)가 비어 있는지 확인하려면 어떻게 해야 할까요? 방법은 간단합니다. 리스트는 len 함수로 길이를 구할 수 있죠? 이걸 if 조건문으로 판단하면 리스트가 비어 있는지 확인할 수 있습니다.\n",
        "\n",
        "```\n",
        "if not len(seq):    # 리스트가 비어 있으면 True\n",
        "if len(seq):        # 리스트에 요소가 있으면 True\n",
        "```\n",
        "\n",
        "하지만 파이썬에서는 이 방법보다 리스트(시퀀스 객체)를 바로 if 조건문으로 판단하는 방법을 권장합니다(PEP 8).\n",
        "```\n",
        "if not seq:    # 리스트가 비어 있으면 True\n",
        "if seq:        # 리스트에 내용이 있으면 True\n",
        "```\n",
        "\n",
        "특히 리스트가 비어 있는지 확인하는 방법은 리스트의 마지막 요소에 접근할 때 유용하게 사용할 수 있습니다. 리스트의 마지막 요소에 접근할 때는 인덱스를 -1로 지정하면 되죠?"
      ],
      "metadata": {
        "id": "qawioHuxdwFi"
      }
    },
    {
      "cell_type": "code",
      "source": [
        "a = [1, 2, 3, 4]\n",
        "bool(a)"
      ],
      "metadata": {
        "colab": {
          "base_uri": "https://localhost:8080/"
        },
        "id": "6CWKEBQEGX22",
        "outputId": "fd93a3d5-c6cf-4408-ea9b-a5d2392524f3"
      },
      "execution_count": 67,
      "outputs": [
        {
          "output_type": "execute_result",
          "data": {
            "text/plain": [
              "True"
            ]
          },
          "metadata": {},
          "execution_count": 67
        }
      ]
    },
    {
      "cell_type": "code",
      "source": [
        "a = []\n",
        "bool(a)"
      ],
      "metadata": {
        "colab": {
          "base_uri": "https://localhost:8080/"
        },
        "id": "afIRQncbGbLH",
        "outputId": "6fe33ff5-162e-48db-f49a-6fbb9a72fb59"
      },
      "execution_count": 68,
      "outputs": [
        {
          "output_type": "execute_result",
          "data": {
            "text/plain": [
              "False"
            ]
          },
          "metadata": {},
          "execution_count": 68
        }
      ]
    },
    {
      "cell_type": "code",
      "source": [
        "seq = [10, 20, 30]\n",
        "seq[-1]"
      ],
      "metadata": {
        "colab": {
          "base_uri": "https://localhost:8080/"
        },
        "id": "j32oAW-Jdp0r",
        "outputId": "177e8615-465d-4f73-a463-9a94dc8ba4ee"
      },
      "execution_count": 69,
      "outputs": [
        {
          "output_type": "execute_result",
          "data": {
            "text/plain": [
              "30"
            ]
          },
          "metadata": {},
          "execution_count": 69
        }
      ]
    },
    {
      "cell_type": "code",
      "source": [
        "# 만약 리스트가 비어 있을 경우에는 인덱스를 -1로 지정하면 에러가 발생합니다.\n",
        "seq = []\n",
        "seq[0]"
      ],
      "metadata": {
        "colab": {
          "base_uri": "https://localhost:8080/",
          "height": 213
        },
        "id": "sYDzJPyJd6Gb",
        "outputId": "0b7fcfae-e74b-47b5-b83c-52d43773e4e7"
      },
      "execution_count": 71,
      "outputs": [
        {
          "output_type": "error",
          "ename": "IndexError",
          "evalue": "ignored",
          "traceback": [
            "\u001b[0;31m---------------------------------------------------------------------------\u001b[0m",
            "\u001b[0;31mIndexError\u001b[0m                                Traceback (most recent call last)",
            "\u001b[0;32m<ipython-input-71-5480e0e6f022>\u001b[0m in \u001b[0;36m<module>\u001b[0;34m\u001b[0m\n\u001b[1;32m      1\u001b[0m \u001b[0;31m# 만약 리스트가 비어 있을 경우에는 인덱스를 -1로 지정하면 에러가 발생합니다.\u001b[0m\u001b[0;34m\u001b[0m\u001b[0;34m\u001b[0m\u001b[0;34m\u001b[0m\u001b[0m\n\u001b[1;32m      2\u001b[0m \u001b[0mseq\u001b[0m \u001b[0;34m=\u001b[0m \u001b[0;34m[\u001b[0m\u001b[0;34m]\u001b[0m\u001b[0;34m\u001b[0m\u001b[0;34m\u001b[0m\u001b[0m\n\u001b[0;32m----> 3\u001b[0;31m \u001b[0mseq\u001b[0m\u001b[0;34m[\u001b[0m\u001b[0;36m0\u001b[0m\u001b[0;34m]\u001b[0m\u001b[0;34m\u001b[0m\u001b[0;34m\u001b[0m\u001b[0m\n\u001b[0m",
            "\u001b[0;31mIndexError\u001b[0m: list index out of range"
          ]
        }
      ]
    },
    {
      "cell_type": "code",
      "source": [
        "# 이때는 if 조건문을 활용하여 리스트에 요소가 있을 때만 마지막 요소를 가져오면 됩니다.\n",
        "# seq = []\n",
        "seq = ['1', '2', '3']\n",
        "if seq: # seq == True? : 원소가 1개 이상 있다\n",
        "    print(seq[0])\n",
        "    print(seq[-1])"
      ],
      "metadata": {
        "id": "GqhZ3c-Dd9Ur",
        "colab": {
          "base_uri": "https://localhost:8080/"
        },
        "outputId": "35f0414d-98ef-420e-ccdf-b868f9830712"
      },
      "execution_count": 74,
      "outputs": [
        {
          "output_type": "stream",
          "name": "stdout",
          "text": [
            "1\n",
            "3\n"
          ]
        }
      ]
    },
    {
      "cell_type": "markdown",
      "source": [
        "## 리스트의 할당과 복사"
      ],
      "metadata": {
        "id": "6d1JLG9_eIeA"
      }
    },
    {
      "cell_type": "markdown",
      "source": [
        "이번에는 리스트의 할당과 복사에 대해 알아보겠습니다. 할당과 복사는 비슷한 것 같지만 큰 차이점이 있습니다.\n",
        "\n",
        "* 얕은복사(shallow copy)와 깊은복사(deep copy)"
      ],
      "metadata": {
        "id": "Jz30wEWteKgT"
      }
    },
    {
      "cell_type": "code",
      "source": [
        "a = [0] * 5\n",
        "a"
      ],
      "metadata": {
        "id": "RldCBZxteNGu",
        "colab": {
          "base_uri": "https://localhost:8080/"
        },
        "outputId": "90eb8c2c-6efd-4303-aa8e-ac33769a995a"
      },
      "execution_count": 75,
      "outputs": [
        {
          "output_type": "execute_result",
          "data": {
            "text/plain": [
              "[0, 0, 0, 0, 0]"
            ]
          },
          "metadata": {},
          "execution_count": 75
        }
      ]
    },
    {
      "cell_type": "code",
      "source": [
        "b = a"
      ],
      "metadata": {
        "id": "9YsGWnAvH1AX"
      },
      "execution_count": 76,
      "outputs": []
    },
    {
      "cell_type": "code",
      "source": [
        "a, b"
      ],
      "metadata": {
        "colab": {
          "base_uri": "https://localhost:8080/"
        },
        "id": "VoViG0mDH-6T",
        "outputId": "e36be2bb-4d93-43e5-9f45-26d5faf8061b"
      },
      "execution_count": 77,
      "outputs": [
        {
          "output_type": "execute_result",
          "data": {
            "text/plain": [
              "([0, 0, 0, 0, 0], [0, 0, 0, 0, 0])"
            ]
          },
          "metadata": {},
          "execution_count": 77
        }
      ]
    },
    {
      "cell_type": "code",
      "source": [
        "a[1] = 200\n",
        "a, b"
      ],
      "metadata": {
        "colab": {
          "base_uri": "https://localhost:8080/"
        },
        "id": "uj_O2fzBIASd",
        "outputId": "b5e6b68b-7d98-4411-dff9-37b0785693c2"
      },
      "execution_count": 79,
      "outputs": [
        {
          "output_type": "execute_result",
          "data": {
            "text/plain": [
              "([0, 200, 0, 0, 0], [0, 200, 0, 0, 0])"
            ]
          },
          "metadata": {},
          "execution_count": 79
        }
      ]
    },
    {
      "cell_type": "code",
      "source": [
        "b[2] = 300\n",
        "a, b"
      ],
      "metadata": {
        "colab": {
          "base_uri": "https://localhost:8080/"
        },
        "id": "O6vdSx0LIHuX",
        "outputId": "533f86b8-584c-46d3-e028-f7f1e47f476e"
      },
      "execution_count": 80,
      "outputs": [
        {
          "output_type": "execute_result",
          "data": {
            "text/plain": [
              "([0, 200, 300, 0, 0], [0, 200, 300, 0, 0])"
            ]
          },
          "metadata": {},
          "execution_count": 80
        }
      ]
    },
    {
      "cell_type": "markdown",
      "source": [
        "b = a와 같이 리스트를 다른 변수에 할당하면 리스트는 두 개가 될 것 같지만 실제로는 리스트가 한 개입니다."
      ],
      "metadata": {
        "id": "2ysvkHOfePOv"
      }
    },
    {
      "cell_type": "code",
      "source": [
        "# a와 b를 is 연산자로 비교해보면 True가 나옵니다. 즉, 변수 이름만 다를 뿐 리스트 a와 b는 같은 객체입니다.\n",
        "a is b"
      ],
      "metadata": {
        "colab": {
          "base_uri": "https://localhost:8080/"
        },
        "id": "o0DHXG8PeN_i",
        "outputId": "5ed7a487-bd56-43b0-98be-07e4a738fd48"
      },
      "execution_count": 81,
      "outputs": [
        {
          "output_type": "execute_result",
          "data": {
            "text/plain": [
              "True"
            ]
          },
          "metadata": {},
          "execution_count": 81
        }
      ]
    },
    {
      "cell_type": "code",
      "source": [
        "# 리스트 a와 b를 완전히 두 개로 만들려면 copy 메서드로 모든 요소를 복사해야 합니다.\n",
        "b = a.copy()"
      ],
      "metadata": {
        "id": "_aTWRaykeWD3"
      },
      "execution_count": 82,
      "outputs": []
    },
    {
      "cell_type": "markdown",
      "source": [
        "b = a.copy()와 같이 copy를 사용한 뒤 b에 할당해주면 리스트 a의 요소가 모두 b에 복사됩니다."
      ],
      "metadata": {
        "id": "W8ex3D0Jeb2B"
      }
    },
    {
      "cell_type": "code",
      "source": [
        "# a와 b를 is 연산자로 비교해보면 False가 나옵니다. 즉, 두 리스트는 다른 객체입니다. 그러나 복사된 요소는 모두 같으므로 ==로 비교하면 True가 나옵니다.\n",
        "a is b, a == b"
      ],
      "metadata": {
        "colab": {
          "base_uri": "https://localhost:8080/"
        },
        "id": "yYUHIwLdea5D",
        "outputId": "867782b2-798b-4d22-98f8-bf52fdee0608"
      },
      "execution_count": 84,
      "outputs": [
        {
          "output_type": "execute_result",
          "data": {
            "text/plain": [
              "(False, True)"
            ]
          },
          "metadata": {},
          "execution_count": 84
        }
      ]
    },
    {
      "cell_type": "code",
      "source": [
        "# 이제 리스트 a와 b는 별개이므로 한쪽의 값을 변경해도 다른 리스트에 영향을 미치지 않습니다.\n",
        "# 다음과 같이 리스트 b의 요소를 변경하면 리스트 a는 그대로이고 리스트 b만 바뀝니다.\n",
        "print(a, b)\n",
        "a[2] = 999\n",
        "a, b"
      ],
      "metadata": {
        "colab": {
          "base_uri": "https://localhost:8080/"
        },
        "id": "oqLtWyEFeh3Q",
        "outputId": "db00d27d-add9-4564-ac92-b68e4d9f06e7"
      },
      "execution_count": 86,
      "outputs": [
        {
          "output_type": "stream",
          "name": "stdout",
          "text": [
            "[0, 200, 300, 0, 0] [0, 200, 300, 0, 0]\n"
          ]
        },
        {
          "output_type": "execute_result",
          "data": {
            "text/plain": [
              "([0, 200, 999, 0, 0], [0, 200, 300, 0, 0])"
            ]
          },
          "metadata": {},
          "execution_count": 86
        }
      ]
    },
    {
      "cell_type": "code",
      "source": [
        "a = { \"name\" : \"young\", \"age\": 20 }\n",
        "b = a"
      ],
      "metadata": {
        "id": "3tYey7uiKaxC"
      },
      "execution_count": 87,
      "outputs": []
    },
    {
      "cell_type": "code",
      "source": [
        "a, b"
      ],
      "metadata": {
        "colab": {
          "base_uri": "https://localhost:8080/"
        },
        "id": "rhZt9o3tKhsH",
        "outputId": "718eabc2-c4a1-48eb-ca67-460ff3c77474"
      },
      "execution_count": 88,
      "outputs": [
        {
          "output_type": "execute_result",
          "data": {
            "text/plain": [
              "({'name': 'young', 'age': 20}, {'name': 'young', 'age': 20})"
            ]
          },
          "metadata": {},
          "execution_count": 88
        }
      ]
    },
    {
      "cell_type": "code",
      "source": [
        "a is b"
      ],
      "metadata": {
        "colab": {
          "base_uri": "https://localhost:8080/"
        },
        "id": "Xm8XGCxSKkIc",
        "outputId": "c8462ab8-9e98-4672-8e06-04f378dbb83d"
      },
      "execution_count": 89,
      "outputs": [
        {
          "output_type": "execute_result",
          "data": {
            "text/plain": [
              "True"
            ]
          },
          "metadata": {},
          "execution_count": 89
        }
      ]
    },
    {
      "cell_type": "code",
      "source": [
        "a['name'] = \"old\"\n",
        "b"
      ],
      "metadata": {
        "colab": {
          "base_uri": "https://localhost:8080/"
        },
        "id": "euVx4GscKlAJ",
        "outputId": "8b47ec41-d704-4782-b7e5-23d03483c2e9"
      },
      "execution_count": 90,
      "outputs": [
        {
          "output_type": "execute_result",
          "data": {
            "text/plain": [
              "{'name': 'old', 'age': 20}"
            ]
          },
          "metadata": {},
          "execution_count": 90
        }
      ]
    },
    {
      "cell_type": "code",
      "source": [
        "b = a.copy()"
      ],
      "metadata": {
        "id": "pJsJ46WIKp6p"
      },
      "execution_count": 91,
      "outputs": []
    },
    {
      "cell_type": "code",
      "source": [
        "a is b, a == b"
      ],
      "metadata": {
        "colab": {
          "base_uri": "https://localhost:8080/"
        },
        "id": "Gm4SJ07KKrsP",
        "outputId": "88f9ee39-b0e9-444c-a60f-592d6753de9c"
      },
      "execution_count": 93,
      "outputs": [
        {
          "output_type": "execute_result",
          "data": {
            "text/plain": [
              "(False, True)"
            ]
          },
          "metadata": {},
          "execution_count": 93
        }
      ]
    },
    {
      "cell_type": "code",
      "source": [
        "a['name'] = 'james'\n",
        "a, b"
      ],
      "metadata": {
        "colab": {
          "base_uri": "https://localhost:8080/"
        },
        "id": "MsrYvHi_Kv2L",
        "outputId": "31316b2b-5cc4-4ea5-a682-e7262f30f0e5"
      },
      "execution_count": 94,
      "outputs": [
        {
          "output_type": "execute_result",
          "data": {
            "text/plain": [
              "({'name': 'james', 'age': 20}, {'name': 'old', 'age': 20})"
            ]
          },
          "metadata": {},
          "execution_count": 94
        }
      ]
    },
    {
      "cell_type": "markdown",
      "source": [
        "## 반복문으로 리스트의 요소를 모두 출력하기"
      ],
      "metadata": {
        "id": "0k4CI6vtewQR"
      }
    },
    {
      "cell_type": "markdown",
      "source": [
        "### for 반복문으로 요소 출력하기"
      ],
      "metadata": {
        "id": "YWNVY17ke1h3"
      }
    },
    {
      "cell_type": "markdown",
      "source": [
        "for 반복문은 그냥 in 뒤에 리스트를 지정하면 됩니다.\n",
        "\n",
        "```\n",
        "for 변수 in 리스트:\n",
        "     반복할 코드\n",
        "```"
      ],
      "metadata": {
        "id": "5vurwh3xe3ET"
      }
    },
    {
      "cell_type": "code",
      "source": [
        "for v in [\"헤이즐넛아메리카노\", \"단호박 라떼\", \"1L킹아메리카노\"]:\n",
        "    print(v)"
      ],
      "metadata": {
        "colab": {
          "base_uri": "https://localhost:8080/"
        },
        "id": "ct3OpCIEen4U",
        "outputId": "3660f8c8-e00a-430b-db2f-de4bb93192e5"
      },
      "execution_count": 95,
      "outputs": [
        {
          "output_type": "stream",
          "name": "stdout",
          "text": [
            "헤이즐넛아메리카노\n",
            "단호박 라떼\n",
            "1L킹아메리카노\n"
          ]
        }
      ]
    },
    {
      "cell_type": "code",
      "source": [
        "for _ in range(10):\n",
        "    print(\"안녕\")"
      ],
      "metadata": {
        "colab": {
          "base_uri": "https://localhost:8080/"
        },
        "id": "0hPQDQgLLdrS",
        "outputId": "dcd4d464-6b3f-40aa-b3b7-34e5f1e65922"
      },
      "execution_count": 96,
      "outputs": [
        {
          "output_type": "stream",
          "name": "stdout",
          "text": [
            "안녕\n",
            "안녕\n",
            "안녕\n",
            "안녕\n",
            "안녕\n",
            "안녕\n",
            "안녕\n",
            "안녕\n",
            "안녕\n",
            "안녕\n"
          ]
        }
      ]
    },
    {
      "cell_type": "markdown",
      "source": [
        "`for i in a:`는 리스트 a에서 요소를 꺼내서 i에 저장하고, 꺼낼 때마다 코드를 반복합니다. 따라서 print로 i를 출력하면 모든 요소를 순서대로 출력할 수 있습니다.\n",
        "\n"
      ],
      "metadata": {
        "id": "A91t5ahze-KX"
      }
    },
    {
      "cell_type": "markdown",
      "source": [
        "### 인덱스와 요소를 함께 출력하기"
      ],
      "metadata": {
        "id": "wANTR49BfDYp"
      }
    },
    {
      "cell_type": "markdown",
      "source": [
        "그럼 for 반복문으로 요소를 출력할 때 인덱스도 함께 출력하려면 어떻게 해야 할까요? 이때는 `enumerate`를 사용합니다.\n",
        "\n",
        "* `for 인덱스, 요소 in enumerate(리스트)`:"
      ],
      "metadata": {
        "id": "wjXgsWEPfE9z"
      }
    },
    {
      "cell_type": "code",
      "source": [
        "a = [\"헤이즐넛아메리카노\", \"단호박 라떼\", \"1L킹아메리카노\"]\n",
        "for i in enumerate(a):\n",
        "    print(i)\n",
        "    print(type(i))\n",
        "    print(len(i))"
      ],
      "metadata": {
        "colab": {
          "base_uri": "https://localhost:8080/"
        },
        "id": "h1DEXzICfANv",
        "outputId": "4271c25a-ec14-4226-ee93-afe0983d6f1c"
      },
      "execution_count": 99,
      "outputs": [
        {
          "output_type": "stream",
          "name": "stdout",
          "text": [
            "(0, '헤이즐넛아메리카노')\n",
            "<class 'tuple'>\n",
            "2\n",
            "(1, '단호박 라떼')\n",
            "<class 'tuple'>\n",
            "2\n",
            "(2, '1L킹아메리카노')\n",
            "<class 'tuple'>\n",
            "2\n"
          ]
        }
      ]
    },
    {
      "cell_type": "code",
      "source": [
        "# for i, v in enumerate(a):\n",
        "for idx, val in enumerate(a):\n",
        "    print(idx, val)"
      ],
      "metadata": {
        "colab": {
          "base_uri": "https://localhost:8080/"
        },
        "id": "QcAMUfAtMFts",
        "outputId": "aa74e877-f4c1-4d46-df7d-8f552ea809f9"
      },
      "execution_count": 100,
      "outputs": [
        {
          "output_type": "stream",
          "name": "stdout",
          "text": [
            "0 헤이즐넛아메리카노\n",
            "1 단호박 라떼\n",
            "2 1L킹아메리카노\n"
          ]
        }
      ]
    },
    {
      "cell_type": "code",
      "source": [
        "b = a * 1"
      ],
      "metadata": {
        "colab": {
          "base_uri": "https://localhost:8080/"
        },
        "id": "BKc6pE7rMWb-",
        "outputId": "033d1d36-e482-473e-fc73-d156b8f7ca19"
      },
      "execution_count": 101,
      "outputs": [
        {
          "output_type": "execute_result",
          "data": {
            "text/plain": [
              "False"
            ]
          },
          "metadata": {},
          "execution_count": 101
        }
      ]
    },
    {
      "cell_type": "markdown",
      "source": [
        "`for index, value in enumerate(a):`와 같이 enumerate에 리스트를 넣으면 for 반복문에서 인덱스와 요소를 동시에 꺼내 올 수 있습니다."
      ],
      "metadata": {
        "id": "b9uh7bkyfNCw"
      }
    },
    {
      "cell_type": "code",
      "source": [
        "# 인덱스 1부터 출력하기\n",
        "for index, value in enumerate(a):\n",
        "    print(index, value)"
      ],
      "metadata": {
        "colab": {
          "base_uri": "https://localhost:8080/"
        },
        "id": "45kSKrIlfKqr",
        "outputId": "de5933cf-9701-4552-929f-213f5c9e1f81"
      },
      "execution_count": 102,
      "outputs": [
        {
          "output_type": "stream",
          "name": "stdout",
          "text": [
            "0 헤이즐넛아메리카노\n",
            "1 단호박 라떼\n",
            "2 1L킹아메리카노\n"
          ]
        }
      ]
    },
    {
      "cell_type": "markdown",
      "source": [
        "enumerate에 start를 지정해주면 시작 인덱스를 바꿀 수 있습니다.\n",
        "\n",
        "* `for 인덱스, 요소 in enumerate(리스트, start=숫자):`"
      ],
      "metadata": {
        "id": "V33hweywfcjS"
      }
    },
    {
      "cell_type": "code",
      "source": [
        "# for index, value in enumerate(a, start=1):\n",
        "for index, value in enumerate(a, start=1):\n",
        "    print(index, value)"
      ],
      "metadata": {
        "colab": {
          "base_uri": "https://localhost:8080/"
        },
        "id": "LIVvo8InfR_a",
        "outputId": "0cd20192-fb5b-4d38-c491-b1ed0c2ca7bd"
      },
      "execution_count": 103,
      "outputs": [
        {
          "output_type": "stream",
          "name": "stdout",
          "text": [
            "1 헤이즐넛아메리카노\n",
            "2 단호박 라떼\n",
            "3 1L킹아메리카노\n"
          ]
        }
      ]
    },
    {
      "cell_type": "code",
      "source": [
        "for index, value in enumerate(a, 1):\n",
        "    print(index, value)"
      ],
      "metadata": {
        "colab": {
          "base_uri": "https://localhost:8080/"
        },
        "id": "A_n9xxLETOOa",
        "outputId": "e6f93e5c-3442-4f4a-c918-261e5b615a64"
      },
      "execution_count": 104,
      "outputs": [
        {
          "output_type": "stream",
          "name": "stdout",
          "text": [
            "1 헤이즐넛아메리카노\n",
            "2 단호박 라떼\n",
            "3 1L킹아메리카노\n"
          ]
        }
      ]
    },
    {
      "cell_type": "markdown",
      "source": [
        "### while반복문으로 요소 출력하기"
      ],
      "metadata": {
        "id": "lAY7CEqafoOL"
      }
    },
    {
      "cell_type": "code",
      "source": [
        "print(a)\n",
        "i = 0\n",
        "while i < len(a):\n",
        "    print(a[i])\n",
        "    i += 1"
      ],
      "metadata": {
        "colab": {
          "base_uri": "https://localhost:8080/"
        },
        "id": "0YS5UjeqfhaV",
        "outputId": "d49a3d38-2f7b-4dcc-e0ca-ba29885aaec3"
      },
      "execution_count": 106,
      "outputs": [
        {
          "output_type": "stream",
          "name": "stdout",
          "text": [
            "['헤이즐넛아메리카노', '단호박 라떼', '1L킹아메리카노']\n",
            "헤이즐넛아메리카노\n",
            "단호박 라떼\n",
            "1L킹아메리카노\n"
          ]
        }
      ]
    },
    {
      "cell_type": "code",
      "source": [
        "# i++, i--, ++i, --i"
      ],
      "metadata": {
        "id": "jGg4LvMXTqen"
      },
      "execution_count": null,
      "outputs": []
    },
    {
      "cell_type": "markdown",
      "source": [
        "즉, 리스트의 인덱스는 0부터 시작하고 마지막 인덱스는 리스트의 길이보다 1이 작으므로 <를 사용합니다. 만약 i <= len(a)처럼 <=을 사용하면 리스트의 범위를 벗어나게 되므로 주의해야 합니다."
      ],
      "metadata": {
        "id": "wyN28kGnf5fr"
      }
    },
    {
      "cell_type": "code",
      "source": [
        "print(a)\n",
        "i = 0\n",
        "while i <= len(a):\n",
        "    print(a[i])\n",
        "    i += 1"
      ],
      "metadata": {
        "id": "aizuNqiafsce",
        "colab": {
          "base_uri": "https://localhost:8080/",
          "height": 307
        },
        "outputId": "06316788-94d1-4d3f-d074-9be4e5dabca6"
      },
      "execution_count": 107,
      "outputs": [
        {
          "output_type": "stream",
          "name": "stdout",
          "text": [
            "['헤이즐넛아메리카노', '단호박 라떼', '1L킹아메리카노']\n",
            "헤이즐넛아메리카노\n",
            "단호박 라떼\n",
            "1L킹아메리카노\n"
          ]
        },
        {
          "output_type": "error",
          "ename": "IndexError",
          "evalue": "ignored",
          "traceback": [
            "\u001b[0;31m---------------------------------------------------------------------------\u001b[0m",
            "\u001b[0;31mIndexError\u001b[0m                                Traceback (most recent call last)",
            "\u001b[0;32m<ipython-input-107-89ca0d0d58be>\u001b[0m in \u001b[0;36m<module>\u001b[0;34m\u001b[0m\n\u001b[1;32m      2\u001b[0m \u001b[0mi\u001b[0m \u001b[0;34m=\u001b[0m \u001b[0;36m0\u001b[0m\u001b[0;34m\u001b[0m\u001b[0;34m\u001b[0m\u001b[0m\n\u001b[1;32m      3\u001b[0m \u001b[0;32mwhile\u001b[0m \u001b[0mi\u001b[0m \u001b[0;34m<=\u001b[0m \u001b[0mlen\u001b[0m\u001b[0;34m(\u001b[0m\u001b[0ma\u001b[0m\u001b[0;34m)\u001b[0m\u001b[0;34m:\u001b[0m\u001b[0;34m\u001b[0m\u001b[0;34m\u001b[0m\u001b[0m\n\u001b[0;32m----> 4\u001b[0;31m     \u001b[0mprint\u001b[0m\u001b[0;34m(\u001b[0m\u001b[0ma\u001b[0m\u001b[0;34m[\u001b[0m\u001b[0mi\u001b[0m\u001b[0;34m]\u001b[0m\u001b[0;34m)\u001b[0m\u001b[0;34m\u001b[0m\u001b[0;34m\u001b[0m\u001b[0m\n\u001b[0m\u001b[1;32m      5\u001b[0m     \u001b[0mi\u001b[0m \u001b[0;34m+=\u001b[0m \u001b[0;36m1\u001b[0m\u001b[0;34m\u001b[0m\u001b[0;34m\u001b[0m\u001b[0m\n",
            "\u001b[0;31mIndexError\u001b[0m: list index out of range"
          ]
        }
      ]
    },
    {
      "cell_type": "markdown",
      "source": [
        "## 리스트(튜플)의 가장 작은 수, 가장 큰 수, 합계 구하기"
      ],
      "metadata": {
        "id": "MqIPe-nPf9Eh"
      }
    },
    {
      "cell_type": "markdown",
      "source": [
        "### 가장 작은 수와 가장 큰 수 구하기"
      ],
      "metadata": {
        "id": "t7xNr8-QhAWi"
      }
    },
    {
      "cell_type": "code",
      "source": [
        "a = [100, 300, 200, 50]"
      ],
      "metadata": {
        "id": "JDgD5V1XUo1u"
      },
      "execution_count": 108,
      "outputs": []
    },
    {
      "cell_type": "code",
      "source": [
        "# 더 간단한 방법이 있습니다. 파이썬에서 제공하는 min, max 함수를 사용하면 됩니다.\n",
        "min(a) # minimum : 최소값"
      ],
      "metadata": {
        "colab": {
          "base_uri": "https://localhost:8080/"
        },
        "id": "gxZ4L8jFha5G",
        "outputId": "e7f005c7-a8be-41a2-d14e-aec590cde7d1"
      },
      "execution_count": 109,
      "outputs": [
        {
          "output_type": "execute_result",
          "data": {
            "text/plain": [
              "50"
            ]
          },
          "metadata": {},
          "execution_count": 109
        }
      ]
    },
    {
      "cell_type": "code",
      "source": [
        "max(a) # maximum : 최대값"
      ],
      "metadata": {
        "colab": {
          "base_uri": "https://localhost:8080/"
        },
        "id": "4MAa1vs9UzPU",
        "outputId": "19dcb844-8776-44b3-bf8a-6317fd7b262a"
      },
      "execution_count": 110,
      "outputs": [
        {
          "output_type": "execute_result",
          "data": {
            "text/plain": [
              "300"
            ]
          },
          "metadata": {},
          "execution_count": 110
        }
      ]
    },
    {
      "cell_type": "markdown",
      "source": [
        "min은 리스트에서 가장 작은 값을 구하고, max는 가장 큰 값을 구합니다."
      ],
      "metadata": {
        "id": "FvBpnEtyhgT0"
      }
    },
    {
      "cell_type": "code",
      "source": [
        "sorted(a) # 오름차순\n",
        "# 맨 앞 (0) : 최소값, 맨 뒤 (-1) : 최대값\n",
        "sorted(a)[0], sorted(a)[-1]"
      ],
      "metadata": {
        "colab": {
          "base_uri": "https://localhost:8080/"
        },
        "id": "ngDPyMbQU8L-",
        "outputId": "e450c5f7-2e30-4a95-9530-eeb1f8b6b278"
      },
      "execution_count": 113,
      "outputs": [
        {
          "output_type": "execute_result",
          "data": {
            "text/plain": [
              "(50, 300)"
            ]
          },
          "metadata": {},
          "execution_count": 113
        }
      ]
    },
    {
      "cell_type": "code",
      "source": [
        "sorted(a, reverse=True) # 내림차순\n",
        "# 맨 앞 (0) : 최대값, 맨 뒤 (-1) : 최소값\n",
        "sorted(a, reverse=True)[0], sorted(a, reverse=True)[-1]"
      ],
      "metadata": {
        "colab": {
          "base_uri": "https://localhost:8080/"
        },
        "id": "GkrJNz5_VMzL",
        "outputId": "4a53ed1a-1c25-4111-befb-ace08f855c60"
      },
      "execution_count": 114,
      "outputs": [
        {
          "output_type": "execute_result",
          "data": {
            "text/plain": [
              "(300, 50)"
            ]
          },
          "metadata": {},
          "execution_count": 114
        }
      ]
    },
    {
      "cell_type": "markdown",
      "source": [
        "### 요소의 합계 구하기"
      ],
      "metadata": {
        "id": "9VJIGdZMhiXX"
      }
    },
    {
      "cell_type": "markdown",
      "source": [
        "사실 이 방법도 좀 번거롭습니다. 그래서 파이썬에서는 합계를 구하는 sum 함수를 제공합니다."
      ],
      "metadata": {
        "id": "ol1IRaKqhtz3"
      }
    },
    {
      "cell_type": "code",
      "source": [
        "print(a)\n",
        "sum(a) # summarization"
      ],
      "metadata": {
        "colab": {
          "base_uri": "https://localhost:8080/"
        },
        "id": "ylFf2-HLhqiV",
        "outputId": "7d4b66ae-b856-403c-dc5b-c956759edde6"
      },
      "execution_count": 115,
      "outputs": [
        {
          "output_type": "stream",
          "name": "stdout",
          "text": [
            "[100, 300, 200, 50]\n"
          ]
        },
        {
          "output_type": "execute_result",
          "data": {
            "text/plain": [
              "650"
            ]
          },
          "metadata": {},
          "execution_count": 115
        }
      ]
    },
    {
      "cell_type": "code",
      "source": [
        "a = [\"바나나\", \"떡볶이\", \"김치볶음밥\"]\n",
        "sum(a)"
      ],
      "metadata": {
        "colab": {
          "base_uri": "https://localhost:8080/",
          "height": 194
        },
        "id": "aKeFLdqsVyKG",
        "outputId": "fa28a84b-bd37-4af4-f1ea-12fc5e183d70"
      },
      "execution_count": 116,
      "outputs": [
        {
          "output_type": "error",
          "ename": "TypeError",
          "evalue": "ignored",
          "traceback": [
            "\u001b[0;31m---------------------------------------------------------------------------\u001b[0m",
            "\u001b[0;31mTypeError\u001b[0m                                 Traceback (most recent call last)",
            "\u001b[0;32m<ipython-input-116-010d5fe87239>\u001b[0m in \u001b[0;36m<module>\u001b[0;34m\u001b[0m\n\u001b[1;32m      1\u001b[0m \u001b[0ma\u001b[0m \u001b[0;34m=\u001b[0m \u001b[0;34m[\u001b[0m\u001b[0;34m\"바나나\"\u001b[0m\u001b[0;34m,\u001b[0m \u001b[0;34m\"떡볶이\"\u001b[0m\u001b[0;34m,\u001b[0m \u001b[0;34m\"김치볶음밥\"\u001b[0m\u001b[0;34m]\u001b[0m\u001b[0;34m\u001b[0m\u001b[0;34m\u001b[0m\u001b[0m\n\u001b[0;32m----> 2\u001b[0;31m \u001b[0msum\u001b[0m\u001b[0;34m(\u001b[0m\u001b[0ma\u001b[0m\u001b[0;34m)\u001b[0m\u001b[0;34m\u001b[0m\u001b[0;34m\u001b[0m\u001b[0m\n\u001b[0m",
            "\u001b[0;31mTypeError\u001b[0m: unsupported operand type(s) for +: 'int' and 'str'"
          ]
        }
      ]
    },
    {
      "cell_type": "code",
      "source": [
        "\"\".join(a)"
      ],
      "metadata": {
        "colab": {
          "base_uri": "https://localhost:8080/",
          "height": 36
        },
        "id": "9qazppOaWCOV",
        "outputId": "ef98b76f-1d45-442f-d86b-a418834b9d85"
      },
      "execution_count": 117,
      "outputs": [
        {
          "output_type": "execute_result",
          "data": {
            "text/plain": [
              "'바나나떡볶이김치볶음밥'"
            ],
            "application/vnd.google.colaboratory.intrinsic+json": {
              "type": "string"
            }
          },
          "metadata": {},
          "execution_count": 117
        }
      ]
    },
    {
      "cell_type": "markdown",
      "source": [
        "## 리스트 표현식 사용하기"
      ],
      "metadata": {
        "id": "PNoWyCtUhzaU"
      }
    },
    {
      "cell_type": "markdown",
      "source": [
        "파이썬의 리스트가 특이한 점은 리스트 안에 for 반복문과 if 조건문을 사용할 수 있다는 점입니다. 이렇게 리스트 안에 식, for 반복문, if 조건문 등을 지정하여 리스트를 생성하는 것을 **리스트 컴프리헨션(list comprehension)**이라고 합니다.\n",
        "\n",
        "리스트 컴프리헨션이라고 하니 언뜻 이해가 잘 안되죠? 책이나 인터넷에서도 리스트 내포, 리스트 내장, 리스트 축약, 리스트 해석 등으로 씁니다. 컴프리헨션은 능력, 이해력, 시험 등의 뜻도 있지만, 어떤 것을 잡아서 담아둔다는 뜻이 있습니다. 즉, 식으로 지정해서 생성된 것을 리스트로 잡아두는 것이 리스트 컴프리헨션입니다. 개념적으로 보면 \"리스트 표현식\"이라고 할 수 있으니 이 책에서는 간단하게 리스트 표현식이라고 쓰겠습니다.\n",
        "\n",
        "리스트 표현식은 다음과 같이 리스트 안에 식, for 반복문을 지정합니다. 문법이 다소 복잡해 보이지만 여러 줄의 코드를 한 줄로 줄일 수 있고, 익숙해지면 크게 어렵지 않습니다.\n",
        "\n",
        "* `[식 for 변수 in 리스트]`"
      ],
      "metadata": {
        "id": "SKDP37d2h2BZ"
      }
    },
    {
      "cell_type": "code",
      "source": [
        "a = [i for i in range(10)]\n",
        "a"
      ],
      "metadata": {
        "colab": {
          "base_uri": "https://localhost:8080/"
        },
        "id": "nNO-RkWmhv-Y",
        "outputId": "ab8b5813-2a98-47d6-f275-7b0f469a768f"
      },
      "execution_count": 118,
      "outputs": [
        {
          "output_type": "execute_result",
          "data": {
            "text/plain": [
              "[0, 1, 2, 3, 4, 5, 6, 7, 8, 9]"
            ]
          },
          "metadata": {},
          "execution_count": 118
        }
      ]
    },
    {
      "cell_type": "code",
      "source": [
        "a = []\n",
        "for i in range(10):\n",
        "    a.append(i)\n",
        "a"
      ],
      "metadata": {
        "colab": {
          "base_uri": "https://localhost:8080/"
        },
        "id": "DMwkTky9WrGU",
        "outputId": "e409cbcd-3246-4287-d41b-504d1c2ad25e"
      },
      "execution_count": 119,
      "outputs": [
        {
          "output_type": "execute_result",
          "data": {
            "text/plain": [
              "[0, 1, 2, 3, 4, 5, 6, 7, 8, 9]"
            ]
          },
          "metadata": {},
          "execution_count": 119
        }
      ]
    },
    {
      "cell_type": "code",
      "source": [
        "a = []\n",
        "for i in range(10):\n",
        "    a.append(i ** 2)\n",
        "a"
      ],
      "metadata": {
        "colab": {
          "base_uri": "https://localhost:8080/"
        },
        "id": "_JDs4llgiArl",
        "outputId": "9eee6037-b929-465f-c47c-523d804e91a3"
      },
      "execution_count": 120,
      "outputs": [
        {
          "output_type": "execute_result",
          "data": {
            "text/plain": [
              "[0, 1, 4, 9, 16, 25, 36, 49, 64, 81]"
            ]
          },
          "metadata": {},
          "execution_count": 120
        }
      ]
    },
    {
      "cell_type": "code",
      "source": [
        "a = [i ** 2 for i in range(10)]\n",
        "a"
      ],
      "metadata": {
        "colab": {
          "base_uri": "https://localhost:8080/"
        },
        "id": "SRx9fWu3XL2V",
        "outputId": "76f6b7be-57fe-40b5-fdb2-6d8e5da2975f"
      },
      "execution_count": 121,
      "outputs": [
        {
          "output_type": "execute_result",
          "data": {
            "text/plain": [
              "[0, 1, 4, 9, 16, 25, 36, 49, 64, 81]"
            ]
          },
          "metadata": {},
          "execution_count": 121
        }
      ]
    },
    {
      "cell_type": "markdown",
      "source": [
        "리스트 안에 식, for, 변수, in, 리스트 순서로 들어있지만 뒤에서 앞으로 읽으면 간단합니다. 즉, range(10)으로 0부터 9까지 생성하여 변수 i에 숫자를 꺼내고, 최종적으로 i를 이용하여 리스트를 만든다는 뜻입니다."
      ],
      "metadata": {
        "id": "LpO8RdH5iE8w"
      }
    },
    {
      "cell_type": "code",
      "source": [
        "a = [i for i in range(5, 15)]\n",
        "a"
      ],
      "metadata": {
        "colab": {
          "base_uri": "https://localhost:8080/"
        },
        "id": "cubbm-uEiCjj",
        "outputId": "26cd98b6-9671-4369-f83f-d51316a5c015"
      },
      "execution_count": 122,
      "outputs": [
        {
          "output_type": "execute_result",
          "data": {
            "text/plain": [
              "[5, 6, 7, 8, 9, 10, 11, 12, 13, 14]"
            ]
          },
          "metadata": {},
          "execution_count": 122
        }
      ]
    },
    {
      "cell_type": "code",
      "source": [
        "a = [i+5 for i in range(10)]\n",
        "a"
      ],
      "metadata": {
        "colab": {
          "base_uri": "https://localhost:8080/"
        },
        "id": "kC22bbyuXdBf",
        "outputId": "58469157-6f0b-4f71-b469-354312dbaf93"
      },
      "execution_count": 123,
      "outputs": [
        {
          "output_type": "execute_result",
          "data": {
            "text/plain": [
              "[5, 6, 7, 8, 9, 10, 11, 12, 13, 14]"
            ]
          },
          "metadata": {},
          "execution_count": 123
        }
      ]
    },
    {
      "cell_type": "code",
      "source": [
        "a = [i for i in range(0, 20, 2)]\n",
        "a"
      ],
      "metadata": {
        "colab": {
          "base_uri": "https://localhost:8080/"
        },
        "id": "lBAMC1pviL6X",
        "outputId": "044efb34-da3d-4cc0-a863-1e7058b45d54"
      },
      "execution_count": 124,
      "outputs": [
        {
          "output_type": "execute_result",
          "data": {
            "text/plain": [
              "[0, 2, 4, 6, 8, 10, 12, 14, 16, 18]"
            ]
          },
          "metadata": {},
          "execution_count": 124
        }
      ]
    },
    {
      "cell_type": "code",
      "source": [
        "a = [i * 2 for i in range(10)]\n",
        "a"
      ],
      "metadata": {
        "colab": {
          "base_uri": "https://localhost:8080/"
        },
        "id": "QhwyOU6EXwgO",
        "outputId": "de971976-4160-482b-b357-e0774a5a72f8"
      },
      "execution_count": 125,
      "outputs": [
        {
          "output_type": "execute_result",
          "data": {
            "text/plain": [
              "[0, 2, 4, 6, 8, 10, 12, 14, 16, 18]"
            ]
          },
          "metadata": {},
          "execution_count": 125
        }
      ]
    },
    {
      "cell_type": "code",
      "source": [
        "a = [\"아메리카노\", \"카푸치노\", \"프라푸치노\"]\n",
        "b = []\n",
        "for v in a:\n",
        "    b.append(v[-2:])\n",
        "b"
      ],
      "metadata": {
        "colab": {
          "base_uri": "https://localhost:8080/"
        },
        "id": "6qrUcaTYX7qh",
        "outputId": "5bc122f5-e1e3-4e91-d856-f4790213c717"
      },
      "execution_count": 126,
      "outputs": [
        {
          "output_type": "execute_result",
          "data": {
            "text/plain": [
              "['카노', '치노', '치노']"
            ]
          },
          "metadata": {},
          "execution_count": 126
        }
      ]
    },
    {
      "cell_type": "code",
      "source": [
        "b = [v[0] for v in a]\n",
        "b"
      ],
      "metadata": {
        "colab": {
          "base_uri": "https://localhost:8080/"
        },
        "id": "gqbysH3NYTGt",
        "outputId": "a2014d23-7200-4933-b57e-b02c7ce7cae1"
      },
      "execution_count": 128,
      "outputs": [
        {
          "output_type": "execute_result",
          "data": {
            "text/plain": [
              "['아', '카', '프']"
            ]
          },
          "metadata": {},
          "execution_count": 128
        }
      ]
    },
    {
      "cell_type": "markdown",
      "source": [
        "### 리스트 표현식에서 if 조건문 사용하기"
      ],
      "metadata": {
        "id": "cLlfOJfoiSls"
      }
    },
    {
      "cell_type": "markdown",
      "source": [
        "이번에는 리스트 표현식에서 if 조건문을 사용해보겠습니다. 다음과 같이 if 조건문은 for 반복문 뒤에 지정합니다.\n",
        "\n",
        "* `[식 for 변수 in 리스트 if 조건식]`"
      ],
      "metadata": {
        "id": "6yK2g3-piUkA"
      }
    },
    {
      "cell_type": "code",
      "source": [
        "c = []\n",
        "for v in a:\n",
        "    # print(v)\n",
        "    if \"푸\" in v:\n",
        "        # print(\"푸 is here\")\n",
        "        c.append(v)\n",
        "c"
      ],
      "metadata": {
        "colab": {
          "base_uri": "https://localhost:8080/"
        },
        "id": "wja63YtgY7qo",
        "outputId": "28ae0971-c5a9-4bcf-fdae-77c2939402cf"
      },
      "execution_count": 133,
      "outputs": [
        {
          "output_type": "execute_result",
          "data": {
            "text/plain": [
              "['카푸치노', '프라푸치노']"
            ]
          },
          "metadata": {},
          "execution_count": 133
        }
      ]
    },
    {
      "cell_type": "code",
      "source": [
        "c = []\n",
        "for v in a:\n",
        "    if \"푸\" not in v:\n",
        "        continue\n",
        "    print(v)\n",
        "    c.append(v)\n",
        "c"
      ],
      "metadata": {
        "colab": {
          "base_uri": "https://localhost:8080/"
        },
        "id": "IruZg-lbZQN_",
        "outputId": "aa8dcf08-5629-4e65-f9f0-daab4eb9e56a"
      },
      "execution_count": 134,
      "outputs": [
        {
          "output_type": "stream",
          "name": "stdout",
          "text": [
            "카푸치노\n",
            "프라푸치노\n"
          ]
        },
        {
          "output_type": "execute_result",
          "data": {
            "text/plain": [
              "['카푸치노', '프라푸치노']"
            ]
          },
          "metadata": {},
          "execution_count": 134
        }
      ]
    },
    {
      "cell_type": "code",
      "source": [
        "[v for v in a if '푸' in v]"
      ],
      "metadata": {
        "colab": {
          "base_uri": "https://localhost:8080/"
        },
        "id": "j1aVvBSLiKjb",
        "outputId": "38296d1e-c8d4-4583-916d-4c8acf9b6831"
      },
      "execution_count": 135,
      "outputs": [
        {
          "output_type": "execute_result",
          "data": {
            "text/plain": [
              "['카푸치노', '프라푸치노']"
            ]
          },
          "metadata": {},
          "execution_count": 135
        }
      ]
    },
    {
      "cell_type": "code",
      "source": [
        "[v[0] for v in a if '푸' in v]"
      ],
      "metadata": {
        "colab": {
          "base_uri": "https://localhost:8080/"
        },
        "id": "mU7F6gUticBX",
        "outputId": "2fef873b-c2a4-4f94-a558-e161ad257ea1"
      },
      "execution_count": 136,
      "outputs": [
        {
          "output_type": "execute_result",
          "data": {
            "text/plain": [
              "['카', '프']"
            ]
          },
          "metadata": {},
          "execution_count": 136
        }
      ]
    },
    {
      "cell_type": "code",
      "source": [
        "[(\"비쌀 것 같네요\" if len(v) > 4 else \"저렴할 것 같네요\") for v in a if '푸' in v]"
      ],
      "metadata": {
        "colab": {
          "base_uri": "https://localhost:8080/"
        },
        "id": "I6-GaxThZ3W0",
        "outputId": "944ed1ec-bafb-4fcb-8436-9e9001c22292"
      },
      "execution_count": 137,
      "outputs": [
        {
          "output_type": "execute_result",
          "data": {
            "text/plain": [
              "['저렴할 것 같네요', '비쌀 것 같네요']"
            ]
          },
          "metadata": {},
          "execution_count": 137
        }
      ]
    },
    {
      "cell_type": "markdown",
      "source": [
        "### for 반복문과 if 조건문을 여러 번 사용하기"
      ],
      "metadata": {
        "id": "p7gFvnKnigCn"
      }
    },
    {
      "cell_type": "markdown",
      "source": [
        "리스트 표현식은 for와 if를 여러 번 사용할 수도 있습니다.\n",
        "\n",
        "* `[식 for 변수1 in 리스트1 if 조건식1     for 변수2 in 리스트2 if 조건식2     ...     for 변수n in 리스트n if 조건식n]`"
      ],
      "metadata": {
        "id": "WwEy38Psiku1"
      }
    },
    {
      "cell_type": "code",
      "source": [
        "for i in range(10):\n",
        "    for j in range(10):\n",
        "        print(i * j)"
      ],
      "metadata": {
        "id": "aD5ufjtoied7",
        "colab": {
          "base_uri": "https://localhost:8080/"
        },
        "outputId": "fef71945-101e-41f8-bcac-df29abbfb0fd"
      },
      "execution_count": 139,
      "outputs": [
        {
          "output_type": "stream",
          "name": "stdout",
          "text": [
            "0\n",
            "0\n",
            "0\n",
            "0\n",
            "0\n",
            "0\n",
            "0\n",
            "0\n",
            "0\n",
            "0\n",
            "0\n",
            "1\n",
            "2\n",
            "3\n",
            "4\n",
            "5\n",
            "6\n",
            "7\n",
            "8\n",
            "9\n",
            "0\n",
            "2\n",
            "4\n",
            "6\n",
            "8\n",
            "10\n",
            "12\n",
            "14\n",
            "16\n",
            "18\n",
            "0\n",
            "3\n",
            "6\n",
            "9\n",
            "12\n",
            "15\n",
            "18\n",
            "21\n",
            "24\n",
            "27\n",
            "0\n",
            "4\n",
            "8\n",
            "12\n",
            "16\n",
            "20\n",
            "24\n",
            "28\n",
            "32\n",
            "36\n",
            "0\n",
            "5\n",
            "10\n",
            "15\n",
            "20\n",
            "25\n",
            "30\n",
            "35\n",
            "40\n",
            "45\n",
            "0\n",
            "6\n",
            "12\n",
            "18\n",
            "24\n",
            "30\n",
            "36\n",
            "42\n",
            "48\n",
            "54\n",
            "0\n",
            "7\n",
            "14\n",
            "21\n",
            "28\n",
            "35\n",
            "42\n",
            "49\n",
            "56\n",
            "63\n",
            "0\n",
            "8\n",
            "16\n",
            "24\n",
            "32\n",
            "40\n",
            "48\n",
            "56\n",
            "64\n",
            "72\n",
            "0\n",
            "9\n",
            "18\n",
            "27\n",
            "36\n",
            "45\n",
            "54\n",
            "63\n",
            "72\n",
            "81\n"
          ]
        }
      ]
    },
    {
      "cell_type": "code",
      "source": [
        "a = [i * j for j in range(2, 10) for i in range(1, 10)]\n",
        "a"
      ],
      "metadata": {
        "id": "IGReL2kgio5L",
        "colab": {
          "base_uri": "https://localhost:8080/"
        },
        "outputId": "de39700b-5a1a-47d1-cbde-3d9749fbdef9"
      },
      "execution_count": 142,
      "outputs": [
        {
          "output_type": "execute_result",
          "data": {
            "text/plain": [
              "[2,\n",
              " 4,\n",
              " 6,\n",
              " 8,\n",
              " 10,\n",
              " 12,\n",
              " 14,\n",
              " 16,\n",
              " 18,\n",
              " 3,\n",
              " 6,\n",
              " 9,\n",
              " 12,\n",
              " 15,\n",
              " 18,\n",
              " 21,\n",
              " 24,\n",
              " 27,\n",
              " 4,\n",
              " 8,\n",
              " 12,\n",
              " 16,\n",
              " 20,\n",
              " 24,\n",
              " 28,\n",
              " 32,\n",
              " 36,\n",
              " 5,\n",
              " 10,\n",
              " 15,\n",
              " 20,\n",
              " 25,\n",
              " 30,\n",
              " 35,\n",
              " 40,\n",
              " 45,\n",
              " 6,\n",
              " 12,\n",
              " 18,\n",
              " 24,\n",
              " 30,\n",
              " 36,\n",
              " 42,\n",
              " 48,\n",
              " 54,\n",
              " 7,\n",
              " 14,\n",
              " 21,\n",
              " 28,\n",
              " 35,\n",
              " 42,\n",
              " 49,\n",
              " 56,\n",
              " 63,\n",
              " 8,\n",
              " 16,\n",
              " 24,\n",
              " 32,\n",
              " 40,\n",
              " 48,\n",
              " 56,\n",
              " 64,\n",
              " 72,\n",
              " 9,\n",
              " 18,\n",
              " 27,\n",
              " 36,\n",
              " 45,\n",
              " 54,\n",
              " 63,\n",
              " 72,\n",
              " 81]"
            ]
          },
          "metadata": {},
          "execution_count": 142
        }
      ]
    },
    {
      "cell_type": "code",
      "source": [
        "a = [i * j for j in range(2, 10) if j % 2 == 0 for i in range(1, 10) if i % 2 == 0]\n",
        "a"
      ],
      "metadata": {
        "colab": {
          "base_uri": "https://localhost:8080/"
        },
        "id": "ZgfRz13bbOKG",
        "outputId": "52e5e377-3162-4245-df82-bebc5a70b681"
      },
      "execution_count": 144,
      "outputs": [
        {
          "output_type": "execute_result",
          "data": {
            "text/plain": [
              "[4, 8, 12, 16, 8, 16, 24, 32, 12, 24, 36, 48, 16, 32, 48, 64]"
            ]
          },
          "metadata": {},
          "execution_count": 144
        }
      ]
    },
    {
      "cell_type": "markdown",
      "source": [
        "## 리스트에 map 사용하기"
      ],
      "metadata": {
        "id": "VFhcQVbYiwbo"
      }
    },
    {
      "cell_type": "markdown",
      "source": [
        "이번에는 리스트에 map을 사용해보겠습니다. map은 리스트의 요소를 지정된 함수로 처리해주는 함수입니다(map은 원본 리스트를 변경하지 않고 새 리스트를 생성합니다).\n",
        "\n",
        "* `list(map(함수, 리스트))`\n",
        "* `tuple(map(함수, 튜플))`\n",
        "\n",
        "예를 들어 실수가 저장된 리스트가 있을 때 이 리스트의 모든 요소를 정수로 변환하려면 어떻게 해야 할까요? 먼저 for 반복문을 사용해서 변환해보겠습니다."
      ],
      "metadata": {
        "id": "KCKM5L0AizY-"
      }
    },
    {
      "cell_type": "code",
      "source": [
        "a = [1.2, 2.5, 3.7, 4.6]\n",
        "for i in range(len(a)):\n",
        "    a[i] = int(a[i])\n",
        "a"
      ],
      "metadata": {
        "colab": {
          "base_uri": "https://localhost:8080/"
        },
        "id": "VZOqVRhpi2uR",
        "outputId": "42757367-3356-47ab-9465-a817620abf16"
      },
      "execution_count": 146,
      "outputs": [
        {
          "output_type": "execute_result",
          "data": {
            "text/plain": [
              "[1, 2, 3, 4]"
            ]
          },
          "metadata": {},
          "execution_count": 146
        }
      ]
    },
    {
      "cell_type": "code",
      "source": [
        "# 매번 for 반복문으로 반복하면서 요소를 변환하려니 조금 번거롭습니다. 이때는 map을 사용하면 편리합니다.\n",
        "a = [1.2, 2.5, 3.7, 4.6]\n",
        "a = list(map(int, a))\n",
        "a"
      ],
      "metadata": {
        "colab": {
          "base_uri": "https://localhost:8080/"
        },
        "id": "7jPvFmfXi48s",
        "outputId": "81123243-7983-46d5-e57a-baa3867bb51d"
      },
      "execution_count": 147,
      "outputs": [
        {
          "output_type": "execute_result",
          "data": {
            "text/plain": [
              "[1, 2, 3, 4]"
            ]
          },
          "metadata": {},
          "execution_count": 147
        }
      ]
    },
    {
      "cell_type": "markdown",
      "source": [
        "### input().split()과 map"
      ],
      "metadata": {
        "id": "4jgGA8cykJzJ"
      }
    },
    {
      "cell_type": "markdown",
      "source": [
        "지금까지 input().split()으로 값을 여러 개 입력받고 정수, 실수로 변환할 때도 map을 사용했었죠? 사실 input().split()의 결과가 문자열 리스트라서 map을 사용할 수 있었습니다.\n",
        "\n",
        "다음과 같이 input().split()을 사용한 뒤에 변수 한 개에 저장해보면 리스트인지 확인할 수 있습니다."
      ],
      "metadata": {
        "id": "5D2FE1EukMl0"
      }
    },
    {
      "cell_type": "code",
      "source": [
        "a = input().split()\n",
        "a"
      ],
      "metadata": {
        "colab": {
          "base_uri": "https://localhost:8080/"
        },
        "id": "Dt1GfQi0jCqN",
        "outputId": "10c81a86-e1a2-4256-8982-7396761534fc"
      },
      "execution_count": 148,
      "outputs": [
        {
          "name": "stdout",
          "output_type": "stream",
          "text": [
            "10 20\n"
          ]
        },
        {
          "output_type": "execute_result",
          "data": {
            "text/plain": [
              "['10', '20']"
            ]
          },
          "metadata": {},
          "execution_count": 148
        }
      ]
    },
    {
      "cell_type": "code",
      "source": [
        "# 이제 map을 사용해서 정수로 변환해봅니다.\n",
        "a = map(int, input().split())\n",
        "a, list(a) "
      ],
      "metadata": {
        "colab": {
          "base_uri": "https://localhost:8080/"
        },
        "id": "HkO02t-2kPN-",
        "outputId": "0d070bf6-b82f-42f0-c929-2fc4613a3b7d"
      },
      "execution_count": 150,
      "outputs": [
        {
          "name": "stdout",
          "output_type": "stream",
          "text": [
            "10 20\n"
          ]
        },
        {
          "output_type": "execute_result",
          "data": {
            "text/plain": [
              "(<map at 0x7f2f06c4bc70>, [10, 20])"
            ]
          },
          "metadata": {},
          "execution_count": 150
        }
      ]
    },
    {
      "cell_type": "markdown",
      "source": [
        "사실 map이 반환하는 맵 객체는 변수 여러 개에 저장하는 언패킹(unpacking)이 가능합니다. 그래서 a, b = map(int, input().split())처럼 list를 생략한 것입니다"
      ],
      "metadata": {
        "id": "lVP4aYf5kb96"
      }
    },
    {
      "cell_type": "code",
      "source": [
        "a, b = map(int, input().split())\n",
        "print(a, b)"
      ],
      "metadata": {
        "colab": {
          "base_uri": "https://localhost:8080/"
        },
        "id": "CfGel0KhkVhk",
        "outputId": "2f2857ff-7cfa-47b6-c2ce-c7156394a062"
      },
      "execution_count": 151,
      "outputs": [
        {
          "output_type": "stream",
          "name": "stdout",
          "text": [
            "10 20\n",
            "10 20\n"
          ]
        }
      ]
    }
  ]
}