{
  "nbformat": 4,
  "nbformat_minor": 0,
  "metadata": {
    "colab": {
      "provenance": [],
      "authorship_tag": "ABX9TyM63XsmtgizNq6Mz1IVym+R",
      "include_colab_link": true
    },
    "kernelspec": {
      "name": "python3",
      "display_name": "Python 3"
    },
    "language_info": {
      "name": "python"
    }
  },
  "cells": [
    {
      "cell_type": "markdown",
      "metadata": {
        "id": "view-in-github",
        "colab_type": "text"
      },
      "source": [
        "<a href=\"https://colab.research.google.com/github/qus0in/Python/blob/main/submission/qus0in/ch02_09_%EB%AC%B8%EC%9E%90%EC%97%B4_%EC%9D%91%EC%9A%A9_qus0in.ipynb\" target=\"_parent\"><img src=\"https://colab.research.google.com/assets/colab-badge.svg\" alt=\"Open In Colab\"/></a>"
      ]
    },
    {
      "cell_type": "markdown",
      "source": [
        "# 문자열 응용"
      ],
      "metadata": {
        "id": "rSPGVAoSBoaB"
      }
    },
    {
      "cell_type": "markdown",
      "source": [
        "지금까지 리스트 사용 방법을 알아보았습니다. 리스트는 요소 여러 개가 연속적으로 이어져 있죠? 마찬가지로 문자열도 문자 여러 개가 연속적으로 이어져 있는 시퀀스 자료형이라 리스트와 비슷한 점이 많습니다."
      ],
      "metadata": {
        "id": "pk9ZeChoBqPB"
      }
    },
    {
      "cell_type": "markdown",
      "source": [
        "## 문자열 조작하기"
      ],
      "metadata": {
        "id": "UsQVy59tBrtp"
      }
    },
    {
      "cell_type": "markdown",
      "source": [
        "### 문자열 바꾸기"
      ],
      "metadata": {
        "id": "kc2FDOEiBt-i"
      }
    },
    {
      "cell_type": "markdown",
      "source": [
        "replace('바꿀문자열', '새문자열')은 문자열 안의 문자열을 다른 문자열로 바꿉니다(문자열 자체는 변경하지 않으며 바뀐 결과를 반환합니다). 다음은 문자열 'Hello, world!'에서 'world'를 'Python'으로 바꾼 뒤 결과를 반환합니다."
      ],
      "metadata": {
        "id": "iRc-Kh3lBvsN"
      }
    },
    {
      "cell_type": "code",
      "execution_count": 4,
      "metadata": {
        "id": "vl5NO4cX4I6o",
        "colab": {
          "base_uri": "https://localhost:8080/"
        },
        "outputId": "01f4f0ee-327e-4138-fd6b-d450dc93b252"
      },
      "outputs": [
        {
          "output_type": "execute_result",
          "data": {
            "text/plain": [
              "('헤이즐넛아메리카노', '킹아메리카노')"
            ]
          },
          "metadata": {},
          "execution_count": 4
        }
      ],
      "source": [
        "a = \"킹아메리카노\"\n",
        "a.replace(\"킹\", \"헤이즐넛\"), a"
      ]
    },
    {
      "cell_type": "markdown",
      "source": [
        "만약 바뀐 결과를 유지하고 싶다면 문자열이 저장된 변수에 replace를 사용한 뒤 다시 변수에 할당해주면 됩니다."
      ],
      "metadata": {
        "id": "QNZJrXLcB66I"
      }
    },
    {
      "cell_type": "code",
      "source": [
        "b = a.replace(\"킹\", \"헤이즐넛\")\n",
        "b"
      ],
      "metadata": {
        "colab": {
          "base_uri": "https://localhost:8080/",
          "height": 36
        },
        "id": "vfIbJUHSB3GX",
        "outputId": "a291e28a-449e-413d-d67e-e938dfbc3e32"
      },
      "execution_count": 5,
      "outputs": [
        {
          "output_type": "execute_result",
          "data": {
            "text/plain": [
              "'헤이즐넛아메리카노'"
            ],
            "application/vnd.google.colaboratory.intrinsic+json": {
              "type": "string"
            }
          },
          "metadata": {},
          "execution_count": 5
        }
      ]
    },
    {
      "cell_type": "markdown",
      "source": [
        "### 문자열 분리하기"
      ],
      "metadata": {
        "id": "t_JeYJb0CU8g"
      }
    },
    {
      "cell_type": "markdown",
      "source": [
        "이제 문자열을 분리하는 방법입니다.\n",
        "\n",
        "split()은 공백을 기준으로 문자열을 분리하여 리스트로 만듭니다. 지금까지 input으로 문자열을 입력받은 뒤 리스트로 만든 메서드가 바로 이 split입니다."
      ],
      "metadata": {
        "id": "4dviG3QYCXaq"
      }
    },
    {
      "cell_type": "code",
      "source": [
        "a = \"태조 정종 태종 세종 문종 단종 세조\"\n",
        "a.split(), a.split(\" \"), a"
      ],
      "metadata": {
        "colab": {
          "base_uri": "https://localhost:8080/"
        },
        "id": "h6uZo9ybCQZG",
        "outputId": "2793ac49-8df1-48eb-9abe-f79de4175f29"
      },
      "execution_count": 7,
      "outputs": [
        {
          "output_type": "execute_result",
          "data": {
            "text/plain": [
              "(['태조', '정종', '태종', '세종', '문종', '단종', '세조'], '태조 정종 태종 세종 문종 단종 세조')"
            ]
          },
          "metadata": {},
          "execution_count": 7
        }
      ]
    },
    {
      "cell_type": "markdown",
      "source": [
        "split('기준문자열')과 같이 기준 문자열을 지정하면 기준 문자열로 문자열을 분리합니다. 즉, 문자열에서 각 단어가 ,(콤마)와 공백으로 구분되어 있을 때 ', '으로 문자열을 분리하면 단어만 리스트로 만듭니다."
      ],
      "metadata": {
        "id": "rCAeYiTRCZwM"
      }
    },
    {
      "cell_type": "code",
      "source": [
        "a = \"태조,정종,태종,세종,문종,단종,세조\"\n",
        "a.split(\",\")"
      ],
      "metadata": {
        "colab": {
          "base_uri": "https://localhost:8080/"
        },
        "id": "iX5CrLX4CYzW",
        "outputId": "c66f3618-555f-48e8-ae5a-5ef56381c00c"
      },
      "execution_count": 8,
      "outputs": [
        {
          "output_type": "execute_result",
          "data": {
            "text/plain": [
              "['태조', '정종', '태종', '세종', '문종', '단종', '세조']"
            ]
          },
          "metadata": {},
          "execution_count": 8
        }
      ]
    },
    {
      "cell_type": "code",
      "source": [
        "a = \"태조;정종;태종;세종;문종;단종;세조\"\n",
        "a.split(\";\"), a.split(\",\")"
      ],
      "metadata": {
        "colab": {
          "base_uri": "https://localhost:8080/"
        },
        "id": "FPLpqDAaimvp",
        "outputId": "19697515-fdc7-4614-eeaa-e63596b31597"
      },
      "execution_count": 10,
      "outputs": [
        {
          "output_type": "execute_result",
          "data": {
            "text/plain": [
              "(['태조', '정종', '태종', '세종', '문종', '단종', '세조'], ['태조;정종;태종;세종;문종;단종;세조'])"
            ]
          },
          "metadata": {},
          "execution_count": 10
        }
      ]
    },
    {
      "cell_type": "markdown",
      "source": [
        "### 구분자 문자열과 문자열 리스트 연결하기"
      ],
      "metadata": {
        "id": "Y9PFkGVICdRG"
      }
    },
    {
      "cell_type": "markdown",
      "source": [
        "문자열을 분리하여 리스트로 만들었으니 다시 연결하는 방법도 있겠죠?\n",
        "\n",
        "join(리스트)는 구분자 문자열과 문자열 리스트의 요소를 연결하여 문자열로 만듭니다. 다음은 공백 ' '에 join을 사용하여 각 문자열 사이에 공백이 들어가도록 만듭니다.."
      ],
      "metadata": {
        "id": "SN9X67EBCfeG"
      }
    },
    {
      "cell_type": "code",
      "source": [
        "b = ['태조', '정종', '태종', '세종', '문종', '단종', '세조']\n",
        "\" \".join(b) # \"구분자\".join(리스트)"
      ],
      "metadata": {
        "colab": {
          "base_uri": "https://localhost:8080/",
          "height": 36
        },
        "id": "piMSC5bfCbsX",
        "outputId": "2d7cc121-74c1-46e9-d9e2-31e8b69fdd42"
      },
      "execution_count": 11,
      "outputs": [
        {
          "output_type": "execute_result",
          "data": {
            "text/plain": [
              "'태조 정종 태종 세종 문종 단종 세조'"
            ],
            "application/vnd.google.colaboratory.intrinsic+json": {
              "type": "string"
            }
          },
          "metadata": {},
          "execution_count": 11
        }
      ]
    },
    {
      "cell_type": "code",
      "source": [
        "# 마이너스 '-'에 join을 사용하면 각 문자열 사이에 마이너스가 들어가겠죠?\n",
        "\"-\".join(b) # \"구분자\".join(리스트)\n",
        "\"*\".join(b) # \"구분자\".join(리스트)"
      ],
      "metadata": {
        "colab": {
          "base_uri": "https://localhost:8080/",
          "height": 36
        },
        "id": "SaNk3IlFChJW",
        "outputId": "6c6cf625-daca-432f-9783-49ba6025d3c5"
      },
      "execution_count": 13,
      "outputs": [
        {
          "output_type": "execute_result",
          "data": {
            "text/plain": [
              "'태조*정종*태종*세종*문종*단종*세조'"
            ],
            "application/vnd.google.colaboratory.intrinsic+json": {
              "type": "string"
            }
          },
          "metadata": {},
          "execution_count": 13
        }
      ]
    },
    {
      "cell_type": "code",
      "source": [
        "\"&\".join(\"집에 가고 싶다\")"
      ],
      "metadata": {
        "colab": {
          "base_uri": "https://localhost:8080/",
          "height": 36
        },
        "id": "AS4ETrfHjaS2",
        "outputId": "d9c387c9-7c4d-4fde-9ffa-7bcdbdf443a6"
      },
      "execution_count": 14,
      "outputs": [
        {
          "output_type": "execute_result",
          "data": {
            "text/plain": [
              "'집&에& &가&고& &싶&다'"
            ],
            "application/vnd.google.colaboratory.intrinsic+json": {
              "type": "string"
            }
          },
          "metadata": {},
          "execution_count": 14
        }
      ]
    },
    {
      "cell_type": "code",
      "source": [
        "\"$\".join(\"집에 가고 싶다\")"
      ],
      "metadata": {
        "colab": {
          "base_uri": "https://localhost:8080/",
          "height": 36
        },
        "id": "OZogU_DajntX",
        "outputId": "19bfd39c-0c6c-42fb-8f73-7c4dc1fdae6e"
      },
      "execution_count": 15,
      "outputs": [
        {
          "output_type": "execute_result",
          "data": {
            "text/plain": [
              "'집$에$ $가$고$ $싶$다'"
            ],
            "application/vnd.google.colaboratory.intrinsic+json": {
              "type": "string"
            }
          },
          "metadata": {},
          "execution_count": 15
        }
      ]
    },
    {
      "cell_type": "markdown",
      "source": [
        "### 소문자를 대문자로 바꾸기"
      ],
      "metadata": {
        "id": "3S9_1rvECnLY"
      }
    },
    {
      "cell_type": "markdown",
      "source": [
        "이번에는 문자열의 문자를 대소문자로 바꾸는 방법입니다.\n",
        "\n",
        "upper()는 문자열의 문자를 모두 대문자로 바꿉니다. 만약 문자열 안에 대문자가 있다면 그대로 유지됩니다."
      ],
      "metadata": {
        "id": "QfCNQ6JPCo8N"
      }
    },
    {
      "cell_type": "code",
      "source": [
        "\"JamesPotato\".upper() # uppercase"
      ],
      "metadata": {
        "colab": {
          "base_uri": "https://localhost:8080/",
          "height": 36
        },
        "id": "9r_5qVXVClmd",
        "outputId": "babe48de-de2b-4155-8ecb-803738592e28"
      },
      "execution_count": 16,
      "outputs": [
        {
          "output_type": "execute_result",
          "data": {
            "text/plain": [
              "'JAMESPOTATO'"
            ],
            "application/vnd.google.colaboratory.intrinsic+json": {
              "type": "string"
            }
          },
          "metadata": {},
          "execution_count": 16
        }
      ]
    },
    {
      "cell_type": "code",
      "source": [
        "\"JamesPotato\".upper().isupper()"
      ],
      "metadata": {
        "colab": {
          "base_uri": "https://localhost:8080/"
        },
        "id": "BtnCig2HkLMo",
        "outputId": "76c133c6-6c66-42fe-c3ec-8737ac8da2f4"
      },
      "execution_count": 19,
      "outputs": [
        {
          "output_type": "execute_result",
          "data": {
            "text/plain": [
              "True"
            ]
          },
          "metadata": {},
          "execution_count": 19
        }
      ]
    },
    {
      "cell_type": "markdown",
      "source": [
        "### 대문자를 소문자로 바꾸기"
      ],
      "metadata": {
        "id": "AWkxZeToCrtK"
      }
    },
    {
      "cell_type": "markdown",
      "source": [
        "lower()는 문자열의 문자를 모두 소문자로 바꿉니다. 만약 문자열 안에 소문자가 있다면 그대로 유지됩니다.\n",
        "\n"
      ],
      "metadata": {
        "id": "toTgebNNCt1N"
      }
    },
    {
      "cell_type": "code",
      "source": [
        "\"JamesPotato\".lower() # lowercase"
      ],
      "metadata": {
        "colab": {
          "base_uri": "https://localhost:8080/",
          "height": 36
        },
        "id": "i2pWhmfsCquO",
        "outputId": "7472beea-859a-4005-f57a-2e671d11d05a"
      },
      "execution_count": 17,
      "outputs": [
        {
          "output_type": "execute_result",
          "data": {
            "text/plain": [
              "'jamespotato'"
            ],
            "application/vnd.google.colaboratory.intrinsic+json": {
              "type": "string"
            }
          },
          "metadata": {},
          "execution_count": 17
        }
      ]
    },
    {
      "cell_type": "code",
      "source": [
        "\"JamesPotato\".lower().islower()"
      ],
      "metadata": {
        "colab": {
          "base_uri": "https://localhost:8080/"
        },
        "id": "iPpAmrlHkT1z",
        "outputId": "93dc7315-8a34-4f50-adb5-b1760ebc9df3"
      },
      "execution_count": 20,
      "outputs": [
        {
          "output_type": "execute_result",
          "data": {
            "text/plain": [
              "True"
            ]
          },
          "metadata": {},
          "execution_count": 20
        }
      ]
    },
    {
      "cell_type": "code",
      "source": [
        "\"123456\".isnumeric()"
      ],
      "metadata": {
        "colab": {
          "base_uri": "https://localhost:8080/"
        },
        "id": "6Bg4E7T2kWTf",
        "outputId": "15109d30-9e89-4b90-9f7f-cfbc35438a4b"
      },
      "execution_count": 23,
      "outputs": [
        {
          "output_type": "execute_result",
          "data": {
            "text/plain": [
              "False"
            ]
          },
          "metadata": {},
          "execution_count": 23
        }
      ]
    },
    {
      "cell_type": "markdown",
      "source": [
        "### 양쪽 공백 삭제하기"
      ],
      "metadata": {
        "id": "OBuALV_5C7Oy"
      }
    },
    {
      "cell_type": "markdown",
      "source": [
        "strip()은 문자열에서 양쪽에 있는 연속된 모든 공백을 삭제합니다."
      ],
      "metadata": {
        "id": "ZZK_vMjxC9PY"
      }
    },
    {
      "cell_type": "code",
      "source": [
        "\"       ㅎ헤헤헤헤헤          \".strip()\n",
        "\"       ㅎ헤헤헤헤헤          \".lstrip()\n",
        "\"       ㅎ헤헤헤헤헤          \".rstrip()"
      ],
      "metadata": {
        "colab": {
          "base_uri": "https://localhost:8080/",
          "height": 36
        },
        "id": "bDIY3BWbC53e",
        "outputId": "51ecaf0f-3179-40fd-8132-2822cd86d04f"
      },
      "execution_count": 26,
      "outputs": [
        {
          "output_type": "execute_result",
          "data": {
            "text/plain": [
              "'       ㅎ헤헤헤헤헤'"
            ],
            "application/vnd.google.colaboratory.intrinsic+json": {
              "type": "string"
            }
          },
          "metadata": {},
          "execution_count": 26
        }
      ]
    },
    {
      "cell_type": "markdown",
      "source": [
        "### 메서드 체이닝"
      ],
      "metadata": {
        "id": "2p2dZ6WwDipy"
      }
    },
    {
      "cell_type": "markdown",
      "source": [
        "이렇게 문자열 메서드는 처리한 결과를 반환하도록 만들어져 있습니다. 따라서 메서드를 계속 연결해서 호출하는 메서드 체이닝이 가능합니다. 메서드 체이닝은 메서드를 줄줄이 연결한다고 해서 메서드 체이닝(method chaining)이라 부릅니다."
      ],
      "metadata": {
        "id": "wgoWG3NPDkhe"
      }
    },
    {
      "cell_type": "code",
      "source": [
        "\"    JamesPotato    \".replace(\"James\", \"John\").upper().strip()"
      ],
      "metadata": {
        "colab": {
          "base_uri": "https://localhost:8080/",
          "height": 36
        },
        "id": "HPUfaEeWk3wE",
        "outputId": "1f488293-2fa8-4cea-8605-eac01ae92726"
      },
      "execution_count": 27,
      "outputs": [
        {
          "output_type": "execute_result",
          "data": {
            "text/plain": [
              "'JOHNPOTATO'"
            ],
            "application/vnd.google.colaboratory.intrinsic+json": {
              "type": "string"
            }
          },
          "metadata": {},
          "execution_count": 27
        }
      ]
    },
    {
      "cell_type": "markdown",
      "source": [
        "### 문자열 왼쪽에 0 채우기"
      ],
      "metadata": {
        "id": "6hCa3B6HDnUg"
      }
    },
    {
      "cell_type": "markdown",
      "source": [
        "지금까지 문자열을 정렬하면서 남는 공간에 공백을 채웠죠? 파이썬을 사용하다 보면 문자열 왼쪽에 0을 채워야 할 경우가 생깁니다.\n",
        "\n",
        "zfill(길이)는 지정된 길이에 맞춰서 문자열의 왼쪽에 0을 채웁니다( zero fill을 의미). 단, 문자열의 길이보다 지정된 길이가 작다면 아무것도 채우지 않습니다. 보통 zfill은 숫자를 일정 자릿수로 맞추고 앞자리는 0으로 채울 때 사용합니다."
      ],
      "metadata": {
        "id": "JcUm-duIDp8K"
      }
    },
    {
      "cell_type": "code",
      "source": [
        "a = \"35\"\n",
        "a = \"350\"\n",
        "a.zfill(4) # rjust, ljust"
      ],
      "metadata": {
        "colab": {
          "base_uri": "https://localhost:8080/",
          "height": 36
        },
        "id": "LOclUMn3DBoW",
        "outputId": "41fa2908-aca7-4dcd-9ed1-18cfec89f529"
      },
      "execution_count": 29,
      "outputs": [
        {
          "output_type": "execute_result",
          "data": {
            "text/plain": [
              "'0350'"
            ],
            "application/vnd.google.colaboratory.intrinsic+json": {
              "type": "string"
            }
          },
          "metadata": {},
          "execution_count": 29
        }
      ]
    },
    {
      "cell_type": "code",
      "source": [
        "a = str(3.5)\n",
        "a.zfill(6)"
      ],
      "metadata": {
        "colab": {
          "base_uri": "https://localhost:8080/",
          "height": 36
        },
        "id": "AkBz-qyGDt9e",
        "outputId": "90a94bae-89f6-438e-cb9c-2e3d3e635265"
      },
      "execution_count": 33,
      "outputs": [
        {
          "output_type": "execute_result",
          "data": {
            "text/plain": [
              "'0003.5'"
            ],
            "application/vnd.google.colaboratory.intrinsic+json": {
              "type": "string"
            }
          },
          "metadata": {},
          "execution_count": 33
        }
      ]
    },
    {
      "cell_type": "code",
      "source": [
        "a = \"hello\"\n",
        "a.zfill(10)"
      ],
      "metadata": {
        "colab": {
          "base_uri": "https://localhost:8080/",
          "height": 36
        },
        "id": "_0g8SbTjDuae",
        "outputId": "a653113d-9503-4801-a71e-052d183b23bc"
      },
      "execution_count": 34,
      "outputs": [
        {
          "output_type": "execute_result",
          "data": {
            "text/plain": [
              "'00000hello'"
            ],
            "application/vnd.google.colaboratory.intrinsic+json": {
              "type": "string"
            }
          },
          "metadata": {},
          "execution_count": 34
        }
      ]
    },
    {
      "cell_type": "markdown",
      "source": [
        "### 문자열 위치 찾기"
      ],
      "metadata": {
        "id": "VrwR3JN9Dydq"
      }
    },
    {
      "cell_type": "markdown",
      "source": [
        "이번에는 문자열의 위치를 찾는 방법을 알아보겠습니다.\n",
        "\n",
        "find('찾을문자열')은 문자열에서 특정 문자열을 찾아서 인덱스를 반환하고, 문자열이 없으면 -1을 반환합니다. find는 왼쪽에서부터 문자열을 찾는데, 같은 문자열이 여러 개일 경우 처음 찾은 문자열의 인덱스를 반환합니다. 여기서는 'pl'이 2개 있지만 왼쪽에서 처음 찾은 'pl'의 인덱스 2를 반환합니다."
      ],
      "metadata": {
        "id": "hQmcofOkD0Pj"
      }
    },
    {
      "cell_type": "code",
      "source": [
        "print(\"킹아메리카노\".find(\"킹\"))\n",
        "print(\"킹아메리카노\".find(\"아메리카\"))\n",
        "print(\"킹오브킹\".find(\"킹\"))\n",
        "print(\"아메리카\".find(\"킹\"))"
      ],
      "metadata": {
        "colab": {
          "base_uri": "https://localhost:8080/"
        },
        "id": "uZgb6VqlDvjG",
        "outputId": "38dec9f4-8f2f-4912-b21f-b67e89fe3b97"
      },
      "execution_count": 39,
      "outputs": [
        {
          "output_type": "stream",
          "name": "stdout",
          "text": [
            "0\n",
            "1\n",
            "0\n",
            "-1\n"
          ]
        }
      ]
    },
    {
      "cell_type": "markdown",
      "source": [
        "### 문자열 개수 세기"
      ],
      "metadata": {
        "id": "a4u_p6roD--N"
      }
    },
    {
      "cell_type": "markdown",
      "source": [
        "count('문자열')은 현재 문자열에서 특정 문자열이 몇 번 나오는지 알아냅니다.\n",
        "\n"
      ],
      "metadata": {
        "id": "aBpKeuz_ECZ_"
      }
    },
    {
      "cell_type": "code",
      "source": [
        "\"찐찐찐찐찐이야 완전 찐이야\".count(\"찐\")"
      ],
      "metadata": {
        "id": "29aWf40-D3vN",
        "outputId": "238acfa7-1618-4df9-ce32-4e4ac092613b",
        "colab": {
          "base_uri": "https://localhost:8080/"
        }
      },
      "execution_count": 41,
      "outputs": [
        {
          "output_type": "execute_result",
          "data": {
            "text/plain": [
              "6"
            ]
          },
          "metadata": {},
          "execution_count": 41
        }
      ]
    }
  ]
}